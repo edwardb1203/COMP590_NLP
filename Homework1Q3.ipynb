{
 "cells": [
  {
   "cell_type": "code",
   "execution_count": 27,
   "id": "72064d00",
   "metadata": {},
   "outputs": [],
   "source": [
    "import nltk\n",
    "import ssl\n",
    "import pandas as pd\n",
    "from operator import itemgetter\n",
    "from nltk.corpus import stopwords\n",
    "from nltk.stem import SnowballStemmer\n",
    "import re\n",
    "import string\n",
    "from nltk.tokenize import RegexpTokenizer\n",
    "tokenizer = RegexpTokenizer(r'\\w+')"
   ]
  },
  {
   "cell_type": "code",
   "execution_count": 28,
   "id": "dbbdcac9",
   "metadata": {},
   "outputs": [],
   "source": [
    "train = pd.read_csv('Corona_NLP_train.csv',encoding='latin-1',usecols=['OriginalTweet','Sentiment'])\n",
    "test = pd.read_csv('Corona_NLP_test.csv',encoding='latin-1',usecols=['OriginalTweet','Sentiment'])"
   ]
  },
  {
   "cell_type": "code",
   "execution_count": 29,
   "id": "29018d53",
   "metadata": {
    "scrolled": true
   },
   "outputs": [
    {
     "data": {
      "text/html": [
       "<div>\n",
       "<style scoped>\n",
       "    .dataframe tbody tr th:only-of-type {\n",
       "        vertical-align: middle;\n",
       "    }\n",
       "\n",
       "    .dataframe tbody tr th {\n",
       "        vertical-align: top;\n",
       "    }\n",
       "\n",
       "    .dataframe thead th {\n",
       "        text-align: right;\n",
       "    }\n",
       "</style>\n",
       "<table border=\"1\" class=\"dataframe\">\n",
       "  <thead>\n",
       "    <tr style=\"text-align: right;\">\n",
       "      <th></th>\n",
       "      <th>OriginalTweet</th>\n",
       "      <th>Sentiment</th>\n",
       "    </tr>\n",
       "  </thead>\n",
       "  <tbody>\n",
       "    <tr>\n",
       "      <th>0</th>\n",
       "      <td>@MeNyrbie @Phil_Gahan @Chrisitv https://t.co/i...</td>\n",
       "      <td>Neutral</td>\n",
       "    </tr>\n",
       "    <tr>\n",
       "      <th>1</th>\n",
       "      <td>advice Talk to your neighbours family to excha...</td>\n",
       "      <td>Positive</td>\n",
       "    </tr>\n",
       "    <tr>\n",
       "      <th>2</th>\n",
       "      <td>Coronavirus Australia: Woolworths to give elde...</td>\n",
       "      <td>Positive</td>\n",
       "    </tr>\n",
       "    <tr>\n",
       "      <th>3</th>\n",
       "      <td>My food stock is not the only one which is emp...</td>\n",
       "      <td>Positive</td>\n",
       "    </tr>\n",
       "    <tr>\n",
       "      <th>4</th>\n",
       "      <td>Me, ready to go at supermarket during the #COV...</td>\n",
       "      <td>Extremely Negative</td>\n",
       "    </tr>\n",
       "  </tbody>\n",
       "</table>\n",
       "</div>"
      ],
      "text/plain": [
       "                                       OriginalTweet           Sentiment\n",
       "0  @MeNyrbie @Phil_Gahan @Chrisitv https://t.co/i...             Neutral\n",
       "1  advice Talk to your neighbours family to excha...            Positive\n",
       "2  Coronavirus Australia: Woolworths to give elde...            Positive\n",
       "3  My food stock is not the only one which is emp...            Positive\n",
       "4  Me, ready to go at supermarket during the #COV...  Extremely Negative"
      ]
     },
     "execution_count": 29,
     "metadata": {},
     "output_type": "execute_result"
    }
   ],
   "source": [
    "train.head()"
   ]
  },
  {
   "cell_type": "code",
   "execution_count": 30,
   "id": "0cdf2ab9",
   "metadata": {},
   "outputs": [],
   "source": [
    "# A\n",
    "# Pre-processing data\n",
    "\n",
    "for row in range(len(train)):\n",
    "    if train.at[row,\"Sentiment\"] == \"Extremely Negative\":\n",
    "        train.at[row,\"Sentiment\"] = \"Negative\"\n",
    "    elif train.at[row,\"Sentiment\"] == \"Extremely Positive\":\n",
    "        train.at[row,\"Sentiment\"] = \"Positive\"\n",
    "    elif train.at[row,\"Sentiment\"] == \"Neutral\":\n",
    "        train = train.drop(row)\n",
    "        \n",
    "for row in range(len(test)):\n",
    "    if test.at[row,\"Sentiment\"] == \"Extremely Negative\":\n",
    "        test.at[row,\"Sentiment\"] = \"Negative\"\n",
    "    elif test.at[row,\"Sentiment\"] == \"Extremely Positive\":\n",
    "        test.at[row,\"Sentiment\"] = \"Positive\"\n",
    "    elif test.at[row,\"Sentiment\"] == \"Neutral\":\n",
    "        test = test.drop(row)"
   ]
  },
  {
   "cell_type": "code",
   "execution_count": 31,
   "id": "ed7d03c9",
   "metadata": {},
   "outputs": [
    {
     "data": {
      "text/html": [
       "<div>\n",
       "<style scoped>\n",
       "    .dataframe tbody tr th:only-of-type {\n",
       "        vertical-align: middle;\n",
       "    }\n",
       "\n",
       "    .dataframe tbody tr th {\n",
       "        vertical-align: top;\n",
       "    }\n",
       "\n",
       "    .dataframe thead th {\n",
       "        text-align: right;\n",
       "    }\n",
       "</style>\n",
       "<table border=\"1\" class=\"dataframe\">\n",
       "  <thead>\n",
       "    <tr style=\"text-align: right;\">\n",
       "      <th></th>\n",
       "      <th>OriginalTweet</th>\n",
       "      <th>Sentiment</th>\n",
       "    </tr>\n",
       "  </thead>\n",
       "  <tbody>\n",
       "    <tr>\n",
       "      <th>0</th>\n",
       "      <td>advice Talk to your neighbours family to excha...</td>\n",
       "      <td>Positive</td>\n",
       "    </tr>\n",
       "    <tr>\n",
       "      <th>1</th>\n",
       "      <td>Coronavirus Australia: Woolworths to give elde...</td>\n",
       "      <td>Positive</td>\n",
       "    </tr>\n",
       "    <tr>\n",
       "      <th>2</th>\n",
       "      <td>My food stock is not the only one which is emp...</td>\n",
       "      <td>Positive</td>\n",
       "    </tr>\n",
       "    <tr>\n",
       "      <th>3</th>\n",
       "      <td>Me, ready to go at supermarket during the #COV...</td>\n",
       "      <td>Negative</td>\n",
       "    </tr>\n",
       "    <tr>\n",
       "      <th>4</th>\n",
       "      <td>As news of the regionÂs first confirmed COVID...</td>\n",
       "      <td>Positive</td>\n",
       "    </tr>\n",
       "  </tbody>\n",
       "</table>\n",
       "</div>"
      ],
      "text/plain": [
       "                                       OriginalTweet Sentiment\n",
       "0  advice Talk to your neighbours family to excha...  Positive\n",
       "1  Coronavirus Australia: Woolworths to give elde...  Positive\n",
       "2  My food stock is not the only one which is emp...  Positive\n",
       "3  Me, ready to go at supermarket during the #COV...  Negative\n",
       "4  As news of the regionÂs first confirmed COVID...  Positive"
      ]
     },
     "execution_count": 31,
     "metadata": {},
     "output_type": "execute_result"
    }
   ],
   "source": [
    "# Check and reset indices\n",
    "train = train.reset_index(drop=True)\n",
    "test = test.reset_index(drop=True)\n",
    "train.head()"
   ]
  },
  {
   "cell_type": "code",
   "execution_count": 32,
   "id": "7bdd8c0e",
   "metadata": {},
   "outputs": [
    {
     "data": {
      "text/html": [
       "<div>\n",
       "<style scoped>\n",
       "    .dataframe tbody tr th:only-of-type {\n",
       "        vertical-align: middle;\n",
       "    }\n",
       "\n",
       "    .dataframe tbody tr th {\n",
       "        vertical-align: top;\n",
       "    }\n",
       "\n",
       "    .dataframe thead th {\n",
       "        text-align: right;\n",
       "    }\n",
       "</style>\n",
       "<table border=\"1\" class=\"dataframe\">\n",
       "  <thead>\n",
       "    <tr style=\"text-align: right;\">\n",
       "      <th></th>\n",
       "      <th>OriginalTweet</th>\n",
       "      <th>Sentiment</th>\n",
       "    </tr>\n",
       "  </thead>\n",
       "  <tbody>\n",
       "    <tr>\n",
       "      <th>count</th>\n",
       "      <td>33444</td>\n",
       "      <td>33444</td>\n",
       "    </tr>\n",
       "    <tr>\n",
       "      <th>unique</th>\n",
       "      <td>33444</td>\n",
       "      <td>2</td>\n",
       "    </tr>\n",
       "    <tr>\n",
       "      <th>top</th>\n",
       "      <td>advice Talk to your neighbours family to excha...</td>\n",
       "      <td>Positive</td>\n",
       "    </tr>\n",
       "    <tr>\n",
       "      <th>freq</th>\n",
       "      <td>1</td>\n",
       "      <td>18046</td>\n",
       "    </tr>\n",
       "  </tbody>\n",
       "</table>\n",
       "</div>"
      ],
      "text/plain": [
       "                                            OriginalTweet Sentiment\n",
       "count                                               33444     33444\n",
       "unique                                              33444         2\n",
       "top     advice Talk to your neighbours family to excha...  Positive\n",
       "freq                                                    1     18046"
      ]
     },
     "execution_count": 32,
     "metadata": {},
     "output_type": "execute_result"
    }
   ],
   "source": [
    "train.describe()"
   ]
  },
  {
   "cell_type": "code",
   "execution_count": 33,
   "id": "403afbed",
   "metadata": {},
   "outputs": [],
   "source": [
    "# B\n",
    "# Need to remove URLS and numbers using regex\n",
    "# Sub from when we see https until the next space. Needs to be https followed by maybe :, ;, ''\n",
    "# \\S matches any char that is not whitespace\n",
    "# \\d+ matches digits\n",
    "\n",
    "for row in range(len(train)):\n",
    "    train.at[row,\"OriginalTweet\"] = re.sub(r'https?\\S+', '',   train.at[row,\"OriginalTweet\"])\n",
    "    train.at[row,\"OriginalTweet\"] = re.sub(r'\\d+', '',   train.at[row,\"OriginalTweet\"])\n",
    "        \n",
    "for row in range(len(test)):\n",
    "    test.at[row,\"OriginalTweet\"] = re.sub(r'https?:\\S+', '',   test.at[row,\"OriginalTweet\"])\n",
    "    test.at[row,\"OriginalTweet\"] = re.sub(r'\\d+', '',   test.at[row,\"OriginalTweet\"])"
   ]
  },
  {
   "cell_type": "code",
   "execution_count": 34,
   "id": "1da2fcb2",
   "metadata": {},
   "outputs": [],
   "source": [
    "# C tokenize\n",
    "\n",
    "for row in range(len(train)):\n",
    "    train.at[row,\"OriginalTweet\"] = nltk.word_tokenize(train.at[row,\"OriginalTweet\"])\n",
    "\n",
    "for row in range(len(test)):\n",
    "    test.at[row,\"OriginalTweet\"] = nltk.word_tokenize(test.at[row,\"OriginalTweet\"])"
   ]
  },
  {
   "cell_type": "code",
   "execution_count": 35,
   "id": "183d09ca",
   "metadata": {},
   "outputs": [
    {
     "name": "stdout",
     "output_type": "stream",
     "text": [
      "Australia\n"
     ]
    }
   ],
   "source": [
    "print(train.at[1,\"OriginalTweet\"][1])"
   ]
  },
  {
   "cell_type": "code",
   "execution_count": 36,
   "id": "7297abdf",
   "metadata": {
    "scrolled": false
   },
   "outputs": [],
   "source": [
    "# turn to lowercase\n",
    "\n",
    "for row in range(len(train)):\n",
    "    for word in range(len(train.at[row,\"OriginalTweet\"])):\n",
    "        train.at[row,\"OriginalTweet\"][word] =  (train.at[row,\"OriginalTweet\"][word]).lower()\n",
    "            \n",
    "for row in range(len(test)):\n",
    "    for word in range(len(test.at[row,\"OriginalTweet\"])):\n",
    "        test.at[row,\"OriginalTweet\"][word] =  (test.at[row,\"OriginalTweet\"][word]).lower()"
   ]
  },
  {
   "cell_type": "code",
   "execution_count": 37,
   "id": "bd78d9d9",
   "metadata": {},
   "outputs": [
    {
     "data": {
      "text/html": [
       "<div>\n",
       "<style scoped>\n",
       "    .dataframe tbody tr th:only-of-type {\n",
       "        vertical-align: middle;\n",
       "    }\n",
       "\n",
       "    .dataframe tbody tr th {\n",
       "        vertical-align: top;\n",
       "    }\n",
       "\n",
       "    .dataframe thead th {\n",
       "        text-align: right;\n",
       "    }\n",
       "</style>\n",
       "<table border=\"1\" class=\"dataframe\">\n",
       "  <thead>\n",
       "    <tr style=\"text-align: right;\">\n",
       "      <th></th>\n",
       "      <th>OriginalTweet</th>\n",
       "      <th>Sentiment</th>\n",
       "    </tr>\n",
       "  </thead>\n",
       "  <tbody>\n",
       "    <tr>\n",
       "      <th>0</th>\n",
       "      <td>[advice, talk, to, your, neighbours, family, t...</td>\n",
       "      <td>Positive</td>\n",
       "    </tr>\n",
       "    <tr>\n",
       "      <th>1</th>\n",
       "      <td>[coronavirus, australia, :, woolworths, to, gi...</td>\n",
       "      <td>Positive</td>\n",
       "    </tr>\n",
       "    <tr>\n",
       "      <th>2</th>\n",
       "      <td>[my, food, stock, is, not, the, only, one, whi...</td>\n",
       "      <td>Positive</td>\n",
       "    </tr>\n",
       "    <tr>\n",
       "      <th>3</th>\n",
       "      <td>[me, ,, ready, to, go, at, supermarket, during...</td>\n",
       "      <td>Negative</td>\n",
       "    </tr>\n",
       "    <tr>\n",
       "      <th>4</th>\n",
       "      <td>[as, news, of, the, regionâs, first, confirme...</td>\n",
       "      <td>Positive</td>\n",
       "    </tr>\n",
       "  </tbody>\n",
       "</table>\n",
       "</div>"
      ],
      "text/plain": [
       "                                       OriginalTweet Sentiment\n",
       "0  [advice, talk, to, your, neighbours, family, t...  Positive\n",
       "1  [coronavirus, australia, :, woolworths, to, gi...  Positive\n",
       "2  [my, food, stock, is, not, the, only, one, whi...  Positive\n",
       "3  [me, ,, ready, to, go, at, supermarket, during...  Negative\n",
       "4  [as, news, of, the, regionâs, first, confirme...  Positive"
      ]
     },
     "execution_count": 37,
     "metadata": {},
     "output_type": "execute_result"
    }
   ],
   "source": [
    "train.head()"
   ]
  },
  {
   "cell_type": "code",
   "execution_count": 38,
   "id": "db2c9ddc",
   "metadata": {},
   "outputs": [],
   "source": [
    "# D, remove stopwords, punctuation, stem words\n",
    "from nltk.corpus import stopwords\n",
    "stop_words = stopwords.words('english')\n",
    "\n",
    "for row in range(len(train)):\n",
    "    train.at[row,\"OriginalTweet\"] = [word for word in train.at[row,\"OriginalTweet\"] if word not in stop_words and word not in string.punctuation]\n",
    "    for word in range(len(train.at[row,\"OriginalTweet\"])):\n",
    "        train.at[row,\"OriginalTweet\"][word] = nltk.PorterStemmer().stem(train.at[row,\"OriginalTweet\"][word])\n",
    "\n",
    "for row in range(len(test)):\n",
    "    test.at[row,\"OriginalTweet\"] = [word for word in test.at[row,\"OriginalTweet\"] if word not in stop_words and word not in string.punctuation]\n",
    "    for word in range(len(test.at[row,\"OriginalTweet\"])):\n",
    "        test.at[row,\"OriginalTweet\"][word] = nltk.PorterStemmer().stem(test.at[row,\"OriginalTweet\"][word])"
   ]
  },
  {
   "cell_type": "code",
   "execution_count": 54,
   "id": "217dcd98",
   "metadata": {},
   "outputs": [],
   "source": [
    "# E,F combine the sets to get BoW\n",
    " \n",
    "# What is the purpose of combining the test and train if we need to split again anyways...?\n",
    "corpus = []\n",
    "trainBoW = []\n",
    "testBoW = []\n",
    "\n",
    "for row in range(len(train)):\n",
    "    corpus.append(\" \".join(train.at[row,\"OriginalTweet\"]))\n",
    "    trainBoW.append(\" \".join(train.at[row,\"OriginalTweet\"]))\n",
    "    \n",
    "for row in range(len(test)):\n",
    "    corpus.append(\" \".join(test.at[row,\"OriginalTweet\"]))\n",
    "    testBoW.append(\" \".join(test.at[row,\"OriginalTweet\"]))"
   ]
  },
  {
   "cell_type": "code",
   "execution_count": 56,
   "id": "c90f9619",
   "metadata": {},
   "outputs": [],
   "source": [
    "# G\n",
    "from sklearn.feature_extraction.text import CountVectorizer\n",
    "vectorizer = CountVectorizer(tokenizer=None, stop_words=None)\n",
    "\n",
    "BoW = vectorizer.fit_transform(corpus)\n",
    "trainBoW = BoW[:len(train)]\n",
    "testBoW = BoW[len(train):]"
   ]
  },
  {
   "cell_type": "code",
   "execution_count": 57,
   "id": "c226e101",
   "metadata": {},
   "outputs": [
    {
     "data": {
      "text/html": [
       "<style>#sk-container-id-4 {color: black;background-color: white;}#sk-container-id-4 pre{padding: 0;}#sk-container-id-4 div.sk-toggleable {background-color: white;}#sk-container-id-4 label.sk-toggleable__label {cursor: pointer;display: block;width: 100%;margin-bottom: 0;padding: 0.3em;box-sizing: border-box;text-align: center;}#sk-container-id-4 label.sk-toggleable__label-arrow:before {content: \"▸\";float: left;margin-right: 0.25em;color: #696969;}#sk-container-id-4 label.sk-toggleable__label-arrow:hover:before {color: black;}#sk-container-id-4 div.sk-estimator:hover label.sk-toggleable__label-arrow:before {color: black;}#sk-container-id-4 div.sk-toggleable__content {max-height: 0;max-width: 0;overflow: hidden;text-align: left;background-color: #f0f8ff;}#sk-container-id-4 div.sk-toggleable__content pre {margin: 0.2em;color: black;border-radius: 0.25em;background-color: #f0f8ff;}#sk-container-id-4 input.sk-toggleable__control:checked~div.sk-toggleable__content {max-height: 200px;max-width: 100%;overflow: auto;}#sk-container-id-4 input.sk-toggleable__control:checked~label.sk-toggleable__label-arrow:before {content: \"▾\";}#sk-container-id-4 div.sk-estimator input.sk-toggleable__control:checked~label.sk-toggleable__label {background-color: #d4ebff;}#sk-container-id-4 div.sk-label input.sk-toggleable__control:checked~label.sk-toggleable__label {background-color: #d4ebff;}#sk-container-id-4 input.sk-hidden--visually {border: 0;clip: rect(1px 1px 1px 1px);clip: rect(1px, 1px, 1px, 1px);height: 1px;margin: -1px;overflow: hidden;padding: 0;position: absolute;width: 1px;}#sk-container-id-4 div.sk-estimator {font-family: monospace;background-color: #f0f8ff;border: 1px dotted black;border-radius: 0.25em;box-sizing: border-box;margin-bottom: 0.5em;}#sk-container-id-4 div.sk-estimator:hover {background-color: #d4ebff;}#sk-container-id-4 div.sk-parallel-item::after {content: \"\";width: 100%;border-bottom: 1px solid gray;flex-grow: 1;}#sk-container-id-4 div.sk-label:hover label.sk-toggleable__label {background-color: #d4ebff;}#sk-container-id-4 div.sk-serial::before {content: \"\";position: absolute;border-left: 1px solid gray;box-sizing: border-box;top: 0;bottom: 0;left: 50%;z-index: 0;}#sk-container-id-4 div.sk-serial {display: flex;flex-direction: column;align-items: center;background-color: white;padding-right: 0.2em;padding-left: 0.2em;position: relative;}#sk-container-id-4 div.sk-item {position: relative;z-index: 1;}#sk-container-id-4 div.sk-parallel {display: flex;align-items: stretch;justify-content: center;background-color: white;position: relative;}#sk-container-id-4 div.sk-item::before, #sk-container-id-4 div.sk-parallel-item::before {content: \"\";position: absolute;border-left: 1px solid gray;box-sizing: border-box;top: 0;bottom: 0;left: 50%;z-index: -1;}#sk-container-id-4 div.sk-parallel-item {display: flex;flex-direction: column;z-index: 1;position: relative;background-color: white;}#sk-container-id-4 div.sk-parallel-item:first-child::after {align-self: flex-end;width: 50%;}#sk-container-id-4 div.sk-parallel-item:last-child::after {align-self: flex-start;width: 50%;}#sk-container-id-4 div.sk-parallel-item:only-child::after {width: 0;}#sk-container-id-4 div.sk-dashed-wrapped {border: 1px dashed gray;margin: 0 0.4em 0.5em 0.4em;box-sizing: border-box;padding-bottom: 0.4em;background-color: white;}#sk-container-id-4 div.sk-label label {font-family: monospace;font-weight: bold;display: inline-block;line-height: 1.2em;}#sk-container-id-4 div.sk-label-container {text-align: center;}#sk-container-id-4 div.sk-container {/* jupyter's `normalize.less` sets `[hidden] { display: none; }` but bootstrap.min.css set `[hidden] { display: none !important; }` so we also need the `!important` here to be able to override the default hidden behavior on the sphinx rendered scikit-learn.org. See: https://github.com/scikit-learn/scikit-learn/issues/21755 */display: inline-block !important;position: relative;}#sk-container-id-4 div.sk-text-repr-fallback {display: none;}</style><div id=\"sk-container-id-4\" class=\"sk-top-container\"><div class=\"sk-text-repr-fallback\"><pre>MultinomialNB()</pre><b>In a Jupyter environment, please rerun this cell to show the HTML representation or trust the notebook. <br />On GitHub, the HTML representation is unable to render, please try loading this page with nbviewer.org.</b></div><div class=\"sk-container\" hidden><div class=\"sk-item\"><div class=\"sk-estimator sk-toggleable\"><input class=\"sk-toggleable__control sk-hidden--visually\" id=\"sk-estimator-id-4\" type=\"checkbox\" checked><label for=\"sk-estimator-id-4\" class=\"sk-toggleable__label sk-toggleable__label-arrow\">MultinomialNB</label><div class=\"sk-toggleable__content\"><pre>MultinomialNB()</pre></div></div></div></div></div>"
      ],
      "text/plain": [
       "MultinomialNB()"
      ]
     },
     "execution_count": 57,
     "metadata": {},
     "output_type": "execute_result"
    }
   ],
   "source": [
    "# G, Train model\n",
    "from sklearn.naive_bayes import MultinomialNB\n",
    "\n",
    "MNB = MultinomialNB()\n",
    "MNB.fit(trainBoW, train[\"Sentiment\"].values)"
   ]
  },
  {
   "cell_type": "code",
   "execution_count": 58,
   "id": "2845875b",
   "metadata": {
    "scrolled": true
   },
   "outputs": [],
   "source": [
    "# H, Evaluate\n",
    "from sklearn import metrics\n",
    "predicted = MNB.predict(testBoW)\n",
    "accuracy_score = metrics.accuracy_score(predicted, test[\"Sentiment\"].values)"
   ]
  },
  {
   "cell_type": "code",
   "execution_count": 60,
   "id": "4d8f3f94",
   "metadata": {},
   "outputs": [
    {
     "name": "stdout",
     "output_type": "stream",
     "text": [
      "The accuracy of the model is: 0.780119534444794\n"
     ]
    }
   ],
   "source": [
    "print(\"The accuracy of the model is: \" + str(accuracy_score))"
   ]
  },
  {
   "cell_type": "code",
   "execution_count": null,
   "id": "c96f25c4",
   "metadata": {},
   "outputs": [],
   "source": []
  }
 ],
 "metadata": {
  "kernelspec": {
   "display_name": "Python 3 (ipykernel)",
   "language": "python",
   "name": "python3"
  },
  "language_info": {
   "codemirror_mode": {
    "name": "ipython",
    "version": 3
   },
   "file_extension": ".py",
   "mimetype": "text/x-python",
   "name": "python",
   "nbconvert_exporter": "python",
   "pygments_lexer": "ipython3",
   "version": "3.10.9"
  }
 },
 "nbformat": 4,
 "nbformat_minor": 5
}
