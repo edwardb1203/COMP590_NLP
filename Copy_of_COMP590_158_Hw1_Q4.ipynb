{
  "nbformat": 4,
  "nbformat_minor": 0,
  "metadata": {
    "colab": {
      "provenance": [],
      "include_colab_link": true
    },
    "kernelspec": {
      "name": "python3",
      "display_name": "Python 3"
    },
    "language_info": {
      "name": "python"
    },
    "gpuClass": "standard",
    "accelerator": "GPU",
    "widgets": {
      "application/vnd.jupyter.widget-state+json": {
        "b28957300be54f018520fdcad292a0e9": {
          "model_module": "@jupyter-widgets/controls",
          "model_name": "HBoxModel",
          "model_module_version": "1.5.0",
          "state": {
            "_dom_classes": [],
            "_model_module": "@jupyter-widgets/controls",
            "_model_module_version": "1.5.0",
            "_model_name": "HBoxModel",
            "_view_count": null,
            "_view_module": "@jupyter-widgets/controls",
            "_view_module_version": "1.5.0",
            "_view_name": "HBoxView",
            "box_style": "",
            "children": [
              "IPY_MODEL_f6e2dc8320ea4c67949be58ae6a4fc81",
              "IPY_MODEL_2bb800230cc14a559474059929d87383",
              "IPY_MODEL_838c9e57d543436d9f5cb9d77a37d614"
            ],
            "layout": "IPY_MODEL_bebd3af64fdb4d3ab6135a1077a6c75d"
          }
        },
        "f6e2dc8320ea4c67949be58ae6a4fc81": {
          "model_module": "@jupyter-widgets/controls",
          "model_name": "HTMLModel",
          "model_module_version": "1.5.0",
          "state": {
            "_dom_classes": [],
            "_model_module": "@jupyter-widgets/controls",
            "_model_module_version": "1.5.0",
            "_model_name": "HTMLModel",
            "_view_count": null,
            "_view_module": "@jupyter-widgets/controls",
            "_view_module_version": "1.5.0",
            "_view_name": "HTMLView",
            "description": "",
            "description_tooltip": null,
            "layout": "IPY_MODEL_5e55dd34796b477eaac5413ee6f34a95",
            "placeholder": "​",
            "style": "IPY_MODEL_fd2b52560975410aaa77bd5957f3eaea",
            "value": "Downloading (…)solve/main/vocab.txt: 100%"
          }
        },
        "2bb800230cc14a559474059929d87383": {
          "model_module": "@jupyter-widgets/controls",
          "model_name": "FloatProgressModel",
          "model_module_version": "1.5.0",
          "state": {
            "_dom_classes": [],
            "_model_module": "@jupyter-widgets/controls",
            "_model_module_version": "1.5.0",
            "_model_name": "FloatProgressModel",
            "_view_count": null,
            "_view_module": "@jupyter-widgets/controls",
            "_view_module_version": "1.5.0",
            "_view_name": "ProgressView",
            "bar_style": "success",
            "description": "",
            "description_tooltip": null,
            "layout": "IPY_MODEL_a66e7b0fe57545cd9e964a46e7274522",
            "max": 213450,
            "min": 0,
            "orientation": "horizontal",
            "style": "IPY_MODEL_6de7692c2cba46f194eff2b34a311645",
            "value": 213450
          }
        },
        "838c9e57d543436d9f5cb9d77a37d614": {
          "model_module": "@jupyter-widgets/controls",
          "model_name": "HTMLModel",
          "model_module_version": "1.5.0",
          "state": {
            "_dom_classes": [],
            "_model_module": "@jupyter-widgets/controls",
            "_model_module_version": "1.5.0",
            "_model_name": "HTMLModel",
            "_view_count": null,
            "_view_module": "@jupyter-widgets/controls",
            "_view_module_version": "1.5.0",
            "_view_name": "HTMLView",
            "description": "",
            "description_tooltip": null,
            "layout": "IPY_MODEL_2b097bf176ce4ec38101279610e22354",
            "placeholder": "​",
            "style": "IPY_MODEL_952f677c46b34aad9bf7305efac54716",
            "value": " 213k/213k [00:00&lt;00:00, 305kB/s]"
          }
        },
        "bebd3af64fdb4d3ab6135a1077a6c75d": {
          "model_module": "@jupyter-widgets/base",
          "model_name": "LayoutModel",
          "model_module_version": "1.2.0",
          "state": {
            "_model_module": "@jupyter-widgets/base",
            "_model_module_version": "1.2.0",
            "_model_name": "LayoutModel",
            "_view_count": null,
            "_view_module": "@jupyter-widgets/base",
            "_view_module_version": "1.2.0",
            "_view_name": "LayoutView",
            "align_content": null,
            "align_items": null,
            "align_self": null,
            "border": null,
            "bottom": null,
            "display": null,
            "flex": null,
            "flex_flow": null,
            "grid_area": null,
            "grid_auto_columns": null,
            "grid_auto_flow": null,
            "grid_auto_rows": null,
            "grid_column": null,
            "grid_gap": null,
            "grid_row": null,
            "grid_template_areas": null,
            "grid_template_columns": null,
            "grid_template_rows": null,
            "height": null,
            "justify_content": null,
            "justify_items": null,
            "left": null,
            "margin": null,
            "max_height": null,
            "max_width": null,
            "min_height": null,
            "min_width": null,
            "object_fit": null,
            "object_position": null,
            "order": null,
            "overflow": null,
            "overflow_x": null,
            "overflow_y": null,
            "padding": null,
            "right": null,
            "top": null,
            "visibility": null,
            "width": null
          }
        },
        "5e55dd34796b477eaac5413ee6f34a95": {
          "model_module": "@jupyter-widgets/base",
          "model_name": "LayoutModel",
          "model_module_version": "1.2.0",
          "state": {
            "_model_module": "@jupyter-widgets/base",
            "_model_module_version": "1.2.0",
            "_model_name": "LayoutModel",
            "_view_count": null,
            "_view_module": "@jupyter-widgets/base",
            "_view_module_version": "1.2.0",
            "_view_name": "LayoutView",
            "align_content": null,
            "align_items": null,
            "align_self": null,
            "border": null,
            "bottom": null,
            "display": null,
            "flex": null,
            "flex_flow": null,
            "grid_area": null,
            "grid_auto_columns": null,
            "grid_auto_flow": null,
            "grid_auto_rows": null,
            "grid_column": null,
            "grid_gap": null,
            "grid_row": null,
            "grid_template_areas": null,
            "grid_template_columns": null,
            "grid_template_rows": null,
            "height": null,
            "justify_content": null,
            "justify_items": null,
            "left": null,
            "margin": null,
            "max_height": null,
            "max_width": null,
            "min_height": null,
            "min_width": null,
            "object_fit": null,
            "object_position": null,
            "order": null,
            "overflow": null,
            "overflow_x": null,
            "overflow_y": null,
            "padding": null,
            "right": null,
            "top": null,
            "visibility": null,
            "width": null
          }
        },
        "fd2b52560975410aaa77bd5957f3eaea": {
          "model_module": "@jupyter-widgets/controls",
          "model_name": "DescriptionStyleModel",
          "model_module_version": "1.5.0",
          "state": {
            "_model_module": "@jupyter-widgets/controls",
            "_model_module_version": "1.5.0",
            "_model_name": "DescriptionStyleModel",
            "_view_count": null,
            "_view_module": "@jupyter-widgets/base",
            "_view_module_version": "1.2.0",
            "_view_name": "StyleView",
            "description_width": ""
          }
        },
        "a66e7b0fe57545cd9e964a46e7274522": {
          "model_module": "@jupyter-widgets/base",
          "model_name": "LayoutModel",
          "model_module_version": "1.2.0",
          "state": {
            "_model_module": "@jupyter-widgets/base",
            "_model_module_version": "1.2.0",
            "_model_name": "LayoutModel",
            "_view_count": null,
            "_view_module": "@jupyter-widgets/base",
            "_view_module_version": "1.2.0",
            "_view_name": "LayoutView",
            "align_content": null,
            "align_items": null,
            "align_self": null,
            "border": null,
            "bottom": null,
            "display": null,
            "flex": null,
            "flex_flow": null,
            "grid_area": null,
            "grid_auto_columns": null,
            "grid_auto_flow": null,
            "grid_auto_rows": null,
            "grid_column": null,
            "grid_gap": null,
            "grid_row": null,
            "grid_template_areas": null,
            "grid_template_columns": null,
            "grid_template_rows": null,
            "height": null,
            "justify_content": null,
            "justify_items": null,
            "left": null,
            "margin": null,
            "max_height": null,
            "max_width": null,
            "min_height": null,
            "min_width": null,
            "object_fit": null,
            "object_position": null,
            "order": null,
            "overflow": null,
            "overflow_x": null,
            "overflow_y": null,
            "padding": null,
            "right": null,
            "top": null,
            "visibility": null,
            "width": null
          }
        },
        "6de7692c2cba46f194eff2b34a311645": {
          "model_module": "@jupyter-widgets/controls",
          "model_name": "ProgressStyleModel",
          "model_module_version": "1.5.0",
          "state": {
            "_model_module": "@jupyter-widgets/controls",
            "_model_module_version": "1.5.0",
            "_model_name": "ProgressStyleModel",
            "_view_count": null,
            "_view_module": "@jupyter-widgets/base",
            "_view_module_version": "1.2.0",
            "_view_name": "StyleView",
            "bar_color": null,
            "description_width": ""
          }
        },
        "2b097bf176ce4ec38101279610e22354": {
          "model_module": "@jupyter-widgets/base",
          "model_name": "LayoutModel",
          "model_module_version": "1.2.0",
          "state": {
            "_model_module": "@jupyter-widgets/base",
            "_model_module_version": "1.2.0",
            "_model_name": "LayoutModel",
            "_view_count": null,
            "_view_module": "@jupyter-widgets/base",
            "_view_module_version": "1.2.0",
            "_view_name": "LayoutView",
            "align_content": null,
            "align_items": null,
            "align_self": null,
            "border": null,
            "bottom": null,
            "display": null,
            "flex": null,
            "flex_flow": null,
            "grid_area": null,
            "grid_auto_columns": null,
            "grid_auto_flow": null,
            "grid_auto_rows": null,
            "grid_column": null,
            "grid_gap": null,
            "grid_row": null,
            "grid_template_areas": null,
            "grid_template_columns": null,
            "grid_template_rows": null,
            "height": null,
            "justify_content": null,
            "justify_items": null,
            "left": null,
            "margin": null,
            "max_height": null,
            "max_width": null,
            "min_height": null,
            "min_width": null,
            "object_fit": null,
            "object_position": null,
            "order": null,
            "overflow": null,
            "overflow_x": null,
            "overflow_y": null,
            "padding": null,
            "right": null,
            "top": null,
            "visibility": null,
            "width": null
          }
        },
        "952f677c46b34aad9bf7305efac54716": {
          "model_module": "@jupyter-widgets/controls",
          "model_name": "DescriptionStyleModel",
          "model_module_version": "1.5.0",
          "state": {
            "_model_module": "@jupyter-widgets/controls",
            "_model_module_version": "1.5.0",
            "_model_name": "DescriptionStyleModel",
            "_view_count": null,
            "_view_module": "@jupyter-widgets/base",
            "_view_module_version": "1.2.0",
            "_view_name": "StyleView",
            "description_width": ""
          }
        },
        "4f527aabc3a245e0b6fbcd220537fa77": {
          "model_module": "@jupyter-widgets/controls",
          "model_name": "HBoxModel",
          "model_module_version": "1.5.0",
          "state": {
            "_dom_classes": [],
            "_model_module": "@jupyter-widgets/controls",
            "_model_module_version": "1.5.0",
            "_model_name": "HBoxModel",
            "_view_count": null,
            "_view_module": "@jupyter-widgets/controls",
            "_view_module_version": "1.5.0",
            "_view_name": "HBoxView",
            "box_style": "",
            "children": [
              "IPY_MODEL_17097e7f5633494a8e29223c94554664",
              "IPY_MODEL_20310691594a4b9aa3bcc36d80fd67f4",
              "IPY_MODEL_5e51ca147a0a42b4bde591212492e83a"
            ],
            "layout": "IPY_MODEL_cbbbb47ae43140c89b09bd2a39e601a5"
          }
        },
        "17097e7f5633494a8e29223c94554664": {
          "model_module": "@jupyter-widgets/controls",
          "model_name": "HTMLModel",
          "model_module_version": "1.5.0",
          "state": {
            "_dom_classes": [],
            "_model_module": "@jupyter-widgets/controls",
            "_model_module_version": "1.5.0",
            "_model_name": "HTMLModel",
            "_view_count": null,
            "_view_module": "@jupyter-widgets/controls",
            "_view_module_version": "1.5.0",
            "_view_name": "HTMLView",
            "description": "",
            "description_tooltip": null,
            "layout": "IPY_MODEL_e211591c9b54411fa269a4da31e0d859",
            "placeholder": "​",
            "style": "IPY_MODEL_674bb0288d5c416ab81427927ffeebcc",
            "value": "Downloading (…)okenizer_config.json: 100%"
          }
        },
        "20310691594a4b9aa3bcc36d80fd67f4": {
          "model_module": "@jupyter-widgets/controls",
          "model_name": "FloatProgressModel",
          "model_module_version": "1.5.0",
          "state": {
            "_dom_classes": [],
            "_model_module": "@jupyter-widgets/controls",
            "_model_module_version": "1.5.0",
            "_model_name": "FloatProgressModel",
            "_view_count": null,
            "_view_module": "@jupyter-widgets/controls",
            "_view_module_version": "1.5.0",
            "_view_name": "ProgressView",
            "bar_style": "success",
            "description": "",
            "description_tooltip": null,
            "layout": "IPY_MODEL_25847dd107684b33879e5e3246dab7d4",
            "max": 29,
            "min": 0,
            "orientation": "horizontal",
            "style": "IPY_MODEL_6de247ef02554ea2b241d976036ba77f",
            "value": 29
          }
        },
        "5e51ca147a0a42b4bde591212492e83a": {
          "model_module": "@jupyter-widgets/controls",
          "model_name": "HTMLModel",
          "model_module_version": "1.5.0",
          "state": {
            "_dom_classes": [],
            "_model_module": "@jupyter-widgets/controls",
            "_model_module_version": "1.5.0",
            "_model_name": "HTMLModel",
            "_view_count": null,
            "_view_module": "@jupyter-widgets/controls",
            "_view_module_version": "1.5.0",
            "_view_name": "HTMLView",
            "description": "",
            "description_tooltip": null,
            "layout": "IPY_MODEL_be5986e1d2654cd691afa2df5b2fc406",
            "placeholder": "​",
            "style": "IPY_MODEL_ad8b584fdda84a87b131e3548be04b44",
            "value": " 29.0/29.0 [00:00&lt;00:00, 1.22kB/s]"
          }
        },
        "cbbbb47ae43140c89b09bd2a39e601a5": {
          "model_module": "@jupyter-widgets/base",
          "model_name": "LayoutModel",
          "model_module_version": "1.2.0",
          "state": {
            "_model_module": "@jupyter-widgets/base",
            "_model_module_version": "1.2.0",
            "_model_name": "LayoutModel",
            "_view_count": null,
            "_view_module": "@jupyter-widgets/base",
            "_view_module_version": "1.2.0",
            "_view_name": "LayoutView",
            "align_content": null,
            "align_items": null,
            "align_self": null,
            "border": null,
            "bottom": null,
            "display": null,
            "flex": null,
            "flex_flow": null,
            "grid_area": null,
            "grid_auto_columns": null,
            "grid_auto_flow": null,
            "grid_auto_rows": null,
            "grid_column": null,
            "grid_gap": null,
            "grid_row": null,
            "grid_template_areas": null,
            "grid_template_columns": null,
            "grid_template_rows": null,
            "height": null,
            "justify_content": null,
            "justify_items": null,
            "left": null,
            "margin": null,
            "max_height": null,
            "max_width": null,
            "min_height": null,
            "min_width": null,
            "object_fit": null,
            "object_position": null,
            "order": null,
            "overflow": null,
            "overflow_x": null,
            "overflow_y": null,
            "padding": null,
            "right": null,
            "top": null,
            "visibility": null,
            "width": null
          }
        },
        "e211591c9b54411fa269a4da31e0d859": {
          "model_module": "@jupyter-widgets/base",
          "model_name": "LayoutModel",
          "model_module_version": "1.2.0",
          "state": {
            "_model_module": "@jupyter-widgets/base",
            "_model_module_version": "1.2.0",
            "_model_name": "LayoutModel",
            "_view_count": null,
            "_view_module": "@jupyter-widgets/base",
            "_view_module_version": "1.2.0",
            "_view_name": "LayoutView",
            "align_content": null,
            "align_items": null,
            "align_self": null,
            "border": null,
            "bottom": null,
            "display": null,
            "flex": null,
            "flex_flow": null,
            "grid_area": null,
            "grid_auto_columns": null,
            "grid_auto_flow": null,
            "grid_auto_rows": null,
            "grid_column": null,
            "grid_gap": null,
            "grid_row": null,
            "grid_template_areas": null,
            "grid_template_columns": null,
            "grid_template_rows": null,
            "height": null,
            "justify_content": null,
            "justify_items": null,
            "left": null,
            "margin": null,
            "max_height": null,
            "max_width": null,
            "min_height": null,
            "min_width": null,
            "object_fit": null,
            "object_position": null,
            "order": null,
            "overflow": null,
            "overflow_x": null,
            "overflow_y": null,
            "padding": null,
            "right": null,
            "top": null,
            "visibility": null,
            "width": null
          }
        },
        "674bb0288d5c416ab81427927ffeebcc": {
          "model_module": "@jupyter-widgets/controls",
          "model_name": "DescriptionStyleModel",
          "model_module_version": "1.5.0",
          "state": {
            "_model_module": "@jupyter-widgets/controls",
            "_model_module_version": "1.5.0",
            "_model_name": "DescriptionStyleModel",
            "_view_count": null,
            "_view_module": "@jupyter-widgets/base",
            "_view_module_version": "1.2.0",
            "_view_name": "StyleView",
            "description_width": ""
          }
        },
        "25847dd107684b33879e5e3246dab7d4": {
          "model_module": "@jupyter-widgets/base",
          "model_name": "LayoutModel",
          "model_module_version": "1.2.0",
          "state": {
            "_model_module": "@jupyter-widgets/base",
            "_model_module_version": "1.2.0",
            "_model_name": "LayoutModel",
            "_view_count": null,
            "_view_module": "@jupyter-widgets/base",
            "_view_module_version": "1.2.0",
            "_view_name": "LayoutView",
            "align_content": null,
            "align_items": null,
            "align_self": null,
            "border": null,
            "bottom": null,
            "display": null,
            "flex": null,
            "flex_flow": null,
            "grid_area": null,
            "grid_auto_columns": null,
            "grid_auto_flow": null,
            "grid_auto_rows": null,
            "grid_column": null,
            "grid_gap": null,
            "grid_row": null,
            "grid_template_areas": null,
            "grid_template_columns": null,
            "grid_template_rows": null,
            "height": null,
            "justify_content": null,
            "justify_items": null,
            "left": null,
            "margin": null,
            "max_height": null,
            "max_width": null,
            "min_height": null,
            "min_width": null,
            "object_fit": null,
            "object_position": null,
            "order": null,
            "overflow": null,
            "overflow_x": null,
            "overflow_y": null,
            "padding": null,
            "right": null,
            "top": null,
            "visibility": null,
            "width": null
          }
        },
        "6de247ef02554ea2b241d976036ba77f": {
          "model_module": "@jupyter-widgets/controls",
          "model_name": "ProgressStyleModel",
          "model_module_version": "1.5.0",
          "state": {
            "_model_module": "@jupyter-widgets/controls",
            "_model_module_version": "1.5.0",
            "_model_name": "ProgressStyleModel",
            "_view_count": null,
            "_view_module": "@jupyter-widgets/base",
            "_view_module_version": "1.2.0",
            "_view_name": "StyleView",
            "bar_color": null,
            "description_width": ""
          }
        },
        "be5986e1d2654cd691afa2df5b2fc406": {
          "model_module": "@jupyter-widgets/base",
          "model_name": "LayoutModel",
          "model_module_version": "1.2.0",
          "state": {
            "_model_module": "@jupyter-widgets/base",
            "_model_module_version": "1.2.0",
            "_model_name": "LayoutModel",
            "_view_count": null,
            "_view_module": "@jupyter-widgets/base",
            "_view_module_version": "1.2.0",
            "_view_name": "LayoutView",
            "align_content": null,
            "align_items": null,
            "align_self": null,
            "border": null,
            "bottom": null,
            "display": null,
            "flex": null,
            "flex_flow": null,
            "grid_area": null,
            "grid_auto_columns": null,
            "grid_auto_flow": null,
            "grid_auto_rows": null,
            "grid_column": null,
            "grid_gap": null,
            "grid_row": null,
            "grid_template_areas": null,
            "grid_template_columns": null,
            "grid_template_rows": null,
            "height": null,
            "justify_content": null,
            "justify_items": null,
            "left": null,
            "margin": null,
            "max_height": null,
            "max_width": null,
            "min_height": null,
            "min_width": null,
            "object_fit": null,
            "object_position": null,
            "order": null,
            "overflow": null,
            "overflow_x": null,
            "overflow_y": null,
            "padding": null,
            "right": null,
            "top": null,
            "visibility": null,
            "width": null
          }
        },
        "ad8b584fdda84a87b131e3548be04b44": {
          "model_module": "@jupyter-widgets/controls",
          "model_name": "DescriptionStyleModel",
          "model_module_version": "1.5.0",
          "state": {
            "_model_module": "@jupyter-widgets/controls",
            "_model_module_version": "1.5.0",
            "_model_name": "DescriptionStyleModel",
            "_view_count": null,
            "_view_module": "@jupyter-widgets/base",
            "_view_module_version": "1.2.0",
            "_view_name": "StyleView",
            "description_width": ""
          }
        },
        "1cf7f554df2e4f718f1d902d35addc3b": {
          "model_module": "@jupyter-widgets/controls",
          "model_name": "HBoxModel",
          "model_module_version": "1.5.0",
          "state": {
            "_dom_classes": [],
            "_model_module": "@jupyter-widgets/controls",
            "_model_module_version": "1.5.0",
            "_model_name": "HBoxModel",
            "_view_count": null,
            "_view_module": "@jupyter-widgets/controls",
            "_view_module_version": "1.5.0",
            "_view_name": "HBoxView",
            "box_style": "",
            "children": [
              "IPY_MODEL_3f475838fe3544af806cbb1534a1635e",
              "IPY_MODEL_6b26783acf3e4ef487773778b88a31b7",
              "IPY_MODEL_40697a566c7148c188457f5e4312659a"
            ],
            "layout": "IPY_MODEL_4120842a842f42a3a08112b3d29400da"
          }
        },
        "3f475838fe3544af806cbb1534a1635e": {
          "model_module": "@jupyter-widgets/controls",
          "model_name": "HTMLModel",
          "model_module_version": "1.5.0",
          "state": {
            "_dom_classes": [],
            "_model_module": "@jupyter-widgets/controls",
            "_model_module_version": "1.5.0",
            "_model_name": "HTMLModel",
            "_view_count": null,
            "_view_module": "@jupyter-widgets/controls",
            "_view_module_version": "1.5.0",
            "_view_name": "HTMLView",
            "description": "",
            "description_tooltip": null,
            "layout": "IPY_MODEL_935a08639e08487e912d2ae8c1eef207",
            "placeholder": "​",
            "style": "IPY_MODEL_5ee56d8d01724eb0909ba15273ebd7a1",
            "value": "Downloading (…)lve/main/config.json: 100%"
          }
        },
        "6b26783acf3e4ef487773778b88a31b7": {
          "model_module": "@jupyter-widgets/controls",
          "model_name": "FloatProgressModel",
          "model_module_version": "1.5.0",
          "state": {
            "_dom_classes": [],
            "_model_module": "@jupyter-widgets/controls",
            "_model_module_version": "1.5.0",
            "_model_name": "FloatProgressModel",
            "_view_count": null,
            "_view_module": "@jupyter-widgets/controls",
            "_view_module_version": "1.5.0",
            "_view_name": "ProgressView",
            "bar_style": "success",
            "description": "",
            "description_tooltip": null,
            "layout": "IPY_MODEL_d3a97646a6044ab6a62e717c1a5ef42e",
            "max": 570,
            "min": 0,
            "orientation": "horizontal",
            "style": "IPY_MODEL_6afa3de706ed4ed4ab8e6b8f09599b6a",
            "value": 570
          }
        },
        "40697a566c7148c188457f5e4312659a": {
          "model_module": "@jupyter-widgets/controls",
          "model_name": "HTMLModel",
          "model_module_version": "1.5.0",
          "state": {
            "_dom_classes": [],
            "_model_module": "@jupyter-widgets/controls",
            "_model_module_version": "1.5.0",
            "_model_name": "HTMLModel",
            "_view_count": null,
            "_view_module": "@jupyter-widgets/controls",
            "_view_module_version": "1.5.0",
            "_view_name": "HTMLView",
            "description": "",
            "description_tooltip": null,
            "layout": "IPY_MODEL_b1c0876bf15b47a392e7db7ea593ff3c",
            "placeholder": "​",
            "style": "IPY_MODEL_89b5c5ebb8f344e9832a930c80dfdfa3",
            "value": " 570/570 [00:00&lt;00:00, 19.5kB/s]"
          }
        },
        "4120842a842f42a3a08112b3d29400da": {
          "model_module": "@jupyter-widgets/base",
          "model_name": "LayoutModel",
          "model_module_version": "1.2.0",
          "state": {
            "_model_module": "@jupyter-widgets/base",
            "_model_module_version": "1.2.0",
            "_model_name": "LayoutModel",
            "_view_count": null,
            "_view_module": "@jupyter-widgets/base",
            "_view_module_version": "1.2.0",
            "_view_name": "LayoutView",
            "align_content": null,
            "align_items": null,
            "align_self": null,
            "border": null,
            "bottom": null,
            "display": null,
            "flex": null,
            "flex_flow": null,
            "grid_area": null,
            "grid_auto_columns": null,
            "grid_auto_flow": null,
            "grid_auto_rows": null,
            "grid_column": null,
            "grid_gap": null,
            "grid_row": null,
            "grid_template_areas": null,
            "grid_template_columns": null,
            "grid_template_rows": null,
            "height": null,
            "justify_content": null,
            "justify_items": null,
            "left": null,
            "margin": null,
            "max_height": null,
            "max_width": null,
            "min_height": null,
            "min_width": null,
            "object_fit": null,
            "object_position": null,
            "order": null,
            "overflow": null,
            "overflow_x": null,
            "overflow_y": null,
            "padding": null,
            "right": null,
            "top": null,
            "visibility": null,
            "width": null
          }
        },
        "935a08639e08487e912d2ae8c1eef207": {
          "model_module": "@jupyter-widgets/base",
          "model_name": "LayoutModel",
          "model_module_version": "1.2.0",
          "state": {
            "_model_module": "@jupyter-widgets/base",
            "_model_module_version": "1.2.0",
            "_model_name": "LayoutModel",
            "_view_count": null,
            "_view_module": "@jupyter-widgets/base",
            "_view_module_version": "1.2.0",
            "_view_name": "LayoutView",
            "align_content": null,
            "align_items": null,
            "align_self": null,
            "border": null,
            "bottom": null,
            "display": null,
            "flex": null,
            "flex_flow": null,
            "grid_area": null,
            "grid_auto_columns": null,
            "grid_auto_flow": null,
            "grid_auto_rows": null,
            "grid_column": null,
            "grid_gap": null,
            "grid_row": null,
            "grid_template_areas": null,
            "grid_template_columns": null,
            "grid_template_rows": null,
            "height": null,
            "justify_content": null,
            "justify_items": null,
            "left": null,
            "margin": null,
            "max_height": null,
            "max_width": null,
            "min_height": null,
            "min_width": null,
            "object_fit": null,
            "object_position": null,
            "order": null,
            "overflow": null,
            "overflow_x": null,
            "overflow_y": null,
            "padding": null,
            "right": null,
            "top": null,
            "visibility": null,
            "width": null
          }
        },
        "5ee56d8d01724eb0909ba15273ebd7a1": {
          "model_module": "@jupyter-widgets/controls",
          "model_name": "DescriptionStyleModel",
          "model_module_version": "1.5.0",
          "state": {
            "_model_module": "@jupyter-widgets/controls",
            "_model_module_version": "1.5.0",
            "_model_name": "DescriptionStyleModel",
            "_view_count": null,
            "_view_module": "@jupyter-widgets/base",
            "_view_module_version": "1.2.0",
            "_view_name": "StyleView",
            "description_width": ""
          }
        },
        "d3a97646a6044ab6a62e717c1a5ef42e": {
          "model_module": "@jupyter-widgets/base",
          "model_name": "LayoutModel",
          "model_module_version": "1.2.0",
          "state": {
            "_model_module": "@jupyter-widgets/base",
            "_model_module_version": "1.2.0",
            "_model_name": "LayoutModel",
            "_view_count": null,
            "_view_module": "@jupyter-widgets/base",
            "_view_module_version": "1.2.0",
            "_view_name": "LayoutView",
            "align_content": null,
            "align_items": null,
            "align_self": null,
            "border": null,
            "bottom": null,
            "display": null,
            "flex": null,
            "flex_flow": null,
            "grid_area": null,
            "grid_auto_columns": null,
            "grid_auto_flow": null,
            "grid_auto_rows": null,
            "grid_column": null,
            "grid_gap": null,
            "grid_row": null,
            "grid_template_areas": null,
            "grid_template_columns": null,
            "grid_template_rows": null,
            "height": null,
            "justify_content": null,
            "justify_items": null,
            "left": null,
            "margin": null,
            "max_height": null,
            "max_width": null,
            "min_height": null,
            "min_width": null,
            "object_fit": null,
            "object_position": null,
            "order": null,
            "overflow": null,
            "overflow_x": null,
            "overflow_y": null,
            "padding": null,
            "right": null,
            "top": null,
            "visibility": null,
            "width": null
          }
        },
        "6afa3de706ed4ed4ab8e6b8f09599b6a": {
          "model_module": "@jupyter-widgets/controls",
          "model_name": "ProgressStyleModel",
          "model_module_version": "1.5.0",
          "state": {
            "_model_module": "@jupyter-widgets/controls",
            "_model_module_version": "1.5.0",
            "_model_name": "ProgressStyleModel",
            "_view_count": null,
            "_view_module": "@jupyter-widgets/base",
            "_view_module_version": "1.2.0",
            "_view_name": "StyleView",
            "bar_color": null,
            "description_width": ""
          }
        },
        "b1c0876bf15b47a392e7db7ea593ff3c": {
          "model_module": "@jupyter-widgets/base",
          "model_name": "LayoutModel",
          "model_module_version": "1.2.0",
          "state": {
            "_model_module": "@jupyter-widgets/base",
            "_model_module_version": "1.2.0",
            "_model_name": "LayoutModel",
            "_view_count": null,
            "_view_module": "@jupyter-widgets/base",
            "_view_module_version": "1.2.0",
            "_view_name": "LayoutView",
            "align_content": null,
            "align_items": null,
            "align_self": null,
            "border": null,
            "bottom": null,
            "display": null,
            "flex": null,
            "flex_flow": null,
            "grid_area": null,
            "grid_auto_columns": null,
            "grid_auto_flow": null,
            "grid_auto_rows": null,
            "grid_column": null,
            "grid_gap": null,
            "grid_row": null,
            "grid_template_areas": null,
            "grid_template_columns": null,
            "grid_template_rows": null,
            "height": null,
            "justify_content": null,
            "justify_items": null,
            "left": null,
            "margin": null,
            "max_height": null,
            "max_width": null,
            "min_height": null,
            "min_width": null,
            "object_fit": null,
            "object_position": null,
            "order": null,
            "overflow": null,
            "overflow_x": null,
            "overflow_y": null,
            "padding": null,
            "right": null,
            "top": null,
            "visibility": null,
            "width": null
          }
        },
        "89b5c5ebb8f344e9832a930c80dfdfa3": {
          "model_module": "@jupyter-widgets/controls",
          "model_name": "DescriptionStyleModel",
          "model_module_version": "1.5.0",
          "state": {
            "_model_module": "@jupyter-widgets/controls",
            "_model_module_version": "1.5.0",
            "_model_name": "DescriptionStyleModel",
            "_view_count": null,
            "_view_module": "@jupyter-widgets/base",
            "_view_module_version": "1.2.0",
            "_view_name": "StyleView",
            "description_width": ""
          }
        },
        "c0522c4c95d94f859eddbc96f876a31f": {
          "model_module": "@jupyter-widgets/controls",
          "model_name": "HBoxModel",
          "model_module_version": "1.5.0",
          "state": {
            "_dom_classes": [],
            "_model_module": "@jupyter-widgets/controls",
            "_model_module_version": "1.5.0",
            "_model_name": "HBoxModel",
            "_view_count": null,
            "_view_module": "@jupyter-widgets/controls",
            "_view_module_version": "1.5.0",
            "_view_name": "HBoxView",
            "box_style": "",
            "children": [
              "IPY_MODEL_42d922da01a34fef89c84b9b71c6d6f9",
              "IPY_MODEL_7ec5aad3da4044bda04045bc5fb6321f",
              "IPY_MODEL_3b12e42894324eec998ce28de14e4327"
            ],
            "layout": "IPY_MODEL_18e4d2551b3c43bcb6664792740b5db3"
          }
        },
        "42d922da01a34fef89c84b9b71c6d6f9": {
          "model_module": "@jupyter-widgets/controls",
          "model_name": "HTMLModel",
          "model_module_version": "1.5.0",
          "state": {
            "_dom_classes": [],
            "_model_module": "@jupyter-widgets/controls",
            "_model_module_version": "1.5.0",
            "_model_name": "HTMLModel",
            "_view_count": null,
            "_view_module": "@jupyter-widgets/controls",
            "_view_module_version": "1.5.0",
            "_view_name": "HTMLView",
            "description": "",
            "description_tooltip": null,
            "layout": "IPY_MODEL_6f6dc4600a7e4b40b310ccd013e4d36d",
            "placeholder": "​",
            "style": "IPY_MODEL_56ac7216a1014cc6be3f09b05848bb91",
            "value": "Downloading (…)&quot;pytorch_model.bin&quot;;: 100%"
          }
        },
        "7ec5aad3da4044bda04045bc5fb6321f": {
          "model_module": "@jupyter-widgets/controls",
          "model_name": "FloatProgressModel",
          "model_module_version": "1.5.0",
          "state": {
            "_dom_classes": [],
            "_model_module": "@jupyter-widgets/controls",
            "_model_module_version": "1.5.0",
            "_model_name": "FloatProgressModel",
            "_view_count": null,
            "_view_module": "@jupyter-widgets/controls",
            "_view_module_version": "1.5.0",
            "_view_name": "ProgressView",
            "bar_style": "success",
            "description": "",
            "description_tooltip": null,
            "layout": "IPY_MODEL_cbcf0c3d3f974317962fc0ae6fbce815",
            "max": 435779157,
            "min": 0,
            "orientation": "horizontal",
            "style": "IPY_MODEL_5f903921d9c644f2aa5476615a32f9bd",
            "value": 435779157
          }
        },
        "3b12e42894324eec998ce28de14e4327": {
          "model_module": "@jupyter-widgets/controls",
          "model_name": "HTMLModel",
          "model_module_version": "1.5.0",
          "state": {
            "_dom_classes": [],
            "_model_module": "@jupyter-widgets/controls",
            "_model_module_version": "1.5.0",
            "_model_name": "HTMLModel",
            "_view_count": null,
            "_view_module": "@jupyter-widgets/controls",
            "_view_module_version": "1.5.0",
            "_view_name": "HTMLView",
            "description": "",
            "description_tooltip": null,
            "layout": "IPY_MODEL_2e29f0548d5e48e289378327e3faa9d2",
            "placeholder": "​",
            "style": "IPY_MODEL_1a6182c63c4845b49673f8d63ce5b615",
            "value": " 436M/436M [00:01&lt;00:00, 235MB/s]"
          }
        },
        "18e4d2551b3c43bcb6664792740b5db3": {
          "model_module": "@jupyter-widgets/base",
          "model_name": "LayoutModel",
          "model_module_version": "1.2.0",
          "state": {
            "_model_module": "@jupyter-widgets/base",
            "_model_module_version": "1.2.0",
            "_model_name": "LayoutModel",
            "_view_count": null,
            "_view_module": "@jupyter-widgets/base",
            "_view_module_version": "1.2.0",
            "_view_name": "LayoutView",
            "align_content": null,
            "align_items": null,
            "align_self": null,
            "border": null,
            "bottom": null,
            "display": null,
            "flex": null,
            "flex_flow": null,
            "grid_area": null,
            "grid_auto_columns": null,
            "grid_auto_flow": null,
            "grid_auto_rows": null,
            "grid_column": null,
            "grid_gap": null,
            "grid_row": null,
            "grid_template_areas": null,
            "grid_template_columns": null,
            "grid_template_rows": null,
            "height": null,
            "justify_content": null,
            "justify_items": null,
            "left": null,
            "margin": null,
            "max_height": null,
            "max_width": null,
            "min_height": null,
            "min_width": null,
            "object_fit": null,
            "object_position": null,
            "order": null,
            "overflow": null,
            "overflow_x": null,
            "overflow_y": null,
            "padding": null,
            "right": null,
            "top": null,
            "visibility": null,
            "width": null
          }
        },
        "6f6dc4600a7e4b40b310ccd013e4d36d": {
          "model_module": "@jupyter-widgets/base",
          "model_name": "LayoutModel",
          "model_module_version": "1.2.0",
          "state": {
            "_model_module": "@jupyter-widgets/base",
            "_model_module_version": "1.2.0",
            "_model_name": "LayoutModel",
            "_view_count": null,
            "_view_module": "@jupyter-widgets/base",
            "_view_module_version": "1.2.0",
            "_view_name": "LayoutView",
            "align_content": null,
            "align_items": null,
            "align_self": null,
            "border": null,
            "bottom": null,
            "display": null,
            "flex": null,
            "flex_flow": null,
            "grid_area": null,
            "grid_auto_columns": null,
            "grid_auto_flow": null,
            "grid_auto_rows": null,
            "grid_column": null,
            "grid_gap": null,
            "grid_row": null,
            "grid_template_areas": null,
            "grid_template_columns": null,
            "grid_template_rows": null,
            "height": null,
            "justify_content": null,
            "justify_items": null,
            "left": null,
            "margin": null,
            "max_height": null,
            "max_width": null,
            "min_height": null,
            "min_width": null,
            "object_fit": null,
            "object_position": null,
            "order": null,
            "overflow": null,
            "overflow_x": null,
            "overflow_y": null,
            "padding": null,
            "right": null,
            "top": null,
            "visibility": null,
            "width": null
          }
        },
        "56ac7216a1014cc6be3f09b05848bb91": {
          "model_module": "@jupyter-widgets/controls",
          "model_name": "DescriptionStyleModel",
          "model_module_version": "1.5.0",
          "state": {
            "_model_module": "@jupyter-widgets/controls",
            "_model_module_version": "1.5.0",
            "_model_name": "DescriptionStyleModel",
            "_view_count": null,
            "_view_module": "@jupyter-widgets/base",
            "_view_module_version": "1.2.0",
            "_view_name": "StyleView",
            "description_width": ""
          }
        },
        "cbcf0c3d3f974317962fc0ae6fbce815": {
          "model_module": "@jupyter-widgets/base",
          "model_name": "LayoutModel",
          "model_module_version": "1.2.0",
          "state": {
            "_model_module": "@jupyter-widgets/base",
            "_model_module_version": "1.2.0",
            "_model_name": "LayoutModel",
            "_view_count": null,
            "_view_module": "@jupyter-widgets/base",
            "_view_module_version": "1.2.0",
            "_view_name": "LayoutView",
            "align_content": null,
            "align_items": null,
            "align_self": null,
            "border": null,
            "bottom": null,
            "display": null,
            "flex": null,
            "flex_flow": null,
            "grid_area": null,
            "grid_auto_columns": null,
            "grid_auto_flow": null,
            "grid_auto_rows": null,
            "grid_column": null,
            "grid_gap": null,
            "grid_row": null,
            "grid_template_areas": null,
            "grid_template_columns": null,
            "grid_template_rows": null,
            "height": null,
            "justify_content": null,
            "justify_items": null,
            "left": null,
            "margin": null,
            "max_height": null,
            "max_width": null,
            "min_height": null,
            "min_width": null,
            "object_fit": null,
            "object_position": null,
            "order": null,
            "overflow": null,
            "overflow_x": null,
            "overflow_y": null,
            "padding": null,
            "right": null,
            "top": null,
            "visibility": null,
            "width": null
          }
        },
        "5f903921d9c644f2aa5476615a32f9bd": {
          "model_module": "@jupyter-widgets/controls",
          "model_name": "ProgressStyleModel",
          "model_module_version": "1.5.0",
          "state": {
            "_model_module": "@jupyter-widgets/controls",
            "_model_module_version": "1.5.0",
            "_model_name": "ProgressStyleModel",
            "_view_count": null,
            "_view_module": "@jupyter-widgets/base",
            "_view_module_version": "1.2.0",
            "_view_name": "StyleView",
            "bar_color": null,
            "description_width": ""
          }
        },
        "2e29f0548d5e48e289378327e3faa9d2": {
          "model_module": "@jupyter-widgets/base",
          "model_name": "LayoutModel",
          "model_module_version": "1.2.0",
          "state": {
            "_model_module": "@jupyter-widgets/base",
            "_model_module_version": "1.2.0",
            "_model_name": "LayoutModel",
            "_view_count": null,
            "_view_module": "@jupyter-widgets/base",
            "_view_module_version": "1.2.0",
            "_view_name": "LayoutView",
            "align_content": null,
            "align_items": null,
            "align_self": null,
            "border": null,
            "bottom": null,
            "display": null,
            "flex": null,
            "flex_flow": null,
            "grid_area": null,
            "grid_auto_columns": null,
            "grid_auto_flow": null,
            "grid_auto_rows": null,
            "grid_column": null,
            "grid_gap": null,
            "grid_row": null,
            "grid_template_areas": null,
            "grid_template_columns": null,
            "grid_template_rows": null,
            "height": null,
            "justify_content": null,
            "justify_items": null,
            "left": null,
            "margin": null,
            "max_height": null,
            "max_width": null,
            "min_height": null,
            "min_width": null,
            "object_fit": null,
            "object_position": null,
            "order": null,
            "overflow": null,
            "overflow_x": null,
            "overflow_y": null,
            "padding": null,
            "right": null,
            "top": null,
            "visibility": null,
            "width": null
          }
        },
        "1a6182c63c4845b49673f8d63ce5b615": {
          "model_module": "@jupyter-widgets/controls",
          "model_name": "DescriptionStyleModel",
          "model_module_version": "1.5.0",
          "state": {
            "_model_module": "@jupyter-widgets/controls",
            "_model_module_version": "1.5.0",
            "_model_name": "DescriptionStyleModel",
            "_view_count": null,
            "_view_module": "@jupyter-widgets/base",
            "_view_module_version": "1.2.0",
            "_view_name": "StyleView",
            "description_width": ""
          }
        }
      }
    }
  },
  "cells": [
    {
      "cell_type": "markdown",
      "metadata": {
        "id": "view-in-github",
        "colab_type": "text"
      },
      "source": [
        "<a href=\"https://colab.research.google.com/github/edwardb1203/COMP590_NLP/blob/main/Copy_of_COMP590_158_Hw1_Q4.ipynb\" target=\"_parent\"><img src=\"https://colab.research.google.com/assets/colab-badge.svg\" alt=\"Open In Colab\"/></a>"
      ]
    },
    {
      "cell_type": "markdown",
      "source": [
        "### Get the data ready"
      ],
      "metadata": {
        "id": "fFUGwmh2wNci"
      }
    },
    {
      "cell_type": "code",
      "source": [
        "from google.colab import drive\n",
        "drive.mount('/content/drive')"
      ],
      "metadata": {
        "id": "uOLAnWRfL8sA",
        "outputId": "c90da515-1188-4faf-ed2b-89bd69a97e5b",
        "colab": {
          "base_uri": "https://localhost:8080/"
        }
      },
      "execution_count": 1,
      "outputs": [
        {
          "output_type": "stream",
          "name": "stdout",
          "text": [
            "Mounted at /content/drive\n"
          ]
        }
      ]
    },
    {
      "cell_type": "code",
      "source": [
        "# See what is in your google drive and make sure the files are in there\n",
        "!ls \"/content/drive/My Drive\""
      ],
      "metadata": {
        "id": "SF1VCVLWL7do",
        "outputId": "be38d9ba-9756-48c5-98d7-bcab3c532d5f",
        "colab": {
          "base_uri": "https://localhost:8080/"
        }
      },
      "execution_count": 2,
      "outputs": [
        {
          "output_type": "stream",
          "name": "stdout",
          "text": [
            "'2020 hackathon submission.gdoc'\n",
            "'301 Common Issues.gdoc'\n",
            "'311 Review Doc.gdoc'\n",
            "'50 States Problem Set.gdoc'\n",
            "'58360511041__87EAE5F4-502A-41B2-8F05-6CDE955AEA31 (1).JPG'\n",
            " 58360511041__87EAE5F4-502A-41B2-8F05-6CDE955AEA31.JPG\n",
            " 59241893359__A777C512-FE99-4459-94A7-D39BEB3D2167.JPG\n",
            " 59373746294__79322360-FD3B-4571-922E-814572327C3A.JPG\n",
            " 59958850954__C978A09A-FB2D-4E4B-BF63-C88E9B0B85EE.JPG\n",
            " 60099575199__51C8B0A0-8B71-4D4A-A84A-538F9E11CB42.JPG\n",
            " 61032650137__68D1DAA8-EDF8-4E4E-BE72-2C7A7C9189EC.JPG\n",
            " 62249157674__06CEB47F-A2BC-4B67-BEFE-1F1DEE244F16.JPG\n",
            " 62256442322__4658B34A-7157-4ACB-B136-5BEBDE68E2E7.JPG\n",
            " 63855138430__0824DA8F-CD85-4582-B8B8-39303A185707.HEIC\n",
            "'75 LeetCode Questions.gsheet'\n",
            " 8515E47F-3516-4762-95D9-02E17EB44C8E.JPG\n",
            "'A1 project backup.gdoc'\n",
            "'about me RA.gdoc'\n",
            "'ANTH454 Voyages Project.gslides'\n",
            "'Bullentin Headlines.gdoc'\n",
            "'Colab Notebooks'\n",
            "'Common 301 issues.gdoc'\n",
            " COMP283\n",
            "'COMP301 Course Assessment.gform'\n",
            "'COMP301 M2 Practice.gdoc'\n",
            "'COMP311 Exam Review.gdoc'\n",
            "'Copy of 605  Forum Sign up RELI 140 (1).gdoc'\n",
            "'Copy of 605  Forum Sign up RELI 140.gdoc'\n",
            "'Copy of Control Signals Summary.gdoc'\n",
            "'Copy of Fall 2021 Undergraduate Registration Guidelines FAQs.gdoc'\n",
            "'Copy of RUSS 204 Vocabulary Units 6 - 10 (1).gdoc'\n",
            "'Copy of RUSS 204 Vocabulary Units 6 - 10.gdoc'\n",
            "'Copy of Social Studies & History Subject for Middle School - 6th Grade: Ancient World History by Slidesgo.gslides'\n",
            "'Copy of Truth table for Nomansian.gsheet'\n",
            "'Copy of Truth table template.gsheet'\n",
            " Corona_NLP_test.csv\n",
            " Corona_NLP_train.csv\n",
            "'csc prompt.gdoc'\n",
            " DevFest2022\n",
            "'Donne essay.gdoc'\n",
            "'door decs.gdoc'\n",
            " EBDD4DBC-E1CC-4417-A69E-0B9A39199B24.jpeg\n",
            "'Edward Baker NEW RESUME (1).pdf'\n",
            "'Edward Baker NEW RESUME.pdf'\n",
            "'Edward Baker RESUME UPDATED (1).pdf'\n",
            "'ENGL227 FINAL.gslides'\n",
            " F5457D90-583B-41A0-89AB-18314E16079A.jpeg\n",
            "'Final Check-in!.gform'\n",
            " FinalVideo_1561389171.045189.MP4\n",
            "'First Floor meeting.gslides'\n",
            "'Flagship Application Essay.gdoc'\n",
            " GMT20220804-174253_Recording_1920x1050.mp4\n",
            "'Graphs Worksheet.gdoc'\n",
            " IMG_0341.JPG\n",
            " IMG_0472.HEIC\n",
            " IMG_0503.JPG\n",
            " IMG_0508.JPG\n",
            " IMG_0533.HEIC\n",
            " IMG_0570.HEIC\n",
            " IMG_0748.HEIC\n",
            " IMG_0793.jpg\n",
            " IMG_0929.JPG\n",
            " IMG_0950.JPG\n",
            " IMG_1120.HEIC\n",
            " IMG_1156.JPG\n",
            " IMG_1292.JPG\n",
            "'IMG_1767 (1).JPG'\n",
            " IMG_1767.JPG\n",
            " IMG_1780.JPG\n",
            " IMG_1829.JPG\n",
            " IMG_1830.JPG\n",
            " IMG_1831.JPG\n",
            " IMG_1867.JPG\n",
            " IMG_1868.JPG\n",
            " IMG_1869.JPG\n",
            " IMG_1870.JPG\n",
            " IMG_2042.JPG\n",
            " IMG_2043.JPG\n",
            " IMG_2044.JPG\n",
            " IMG_2045.JPG\n",
            " IMG_2046.JPG\n",
            " IMG_2047.JPG\n",
            " IMG_2048.JPG\n",
            " IMG_2049.JPG\n",
            " IMG_2775.HEIC\n",
            " IMG_2883.HEIC\n",
            " IMG_3087.jpg\n",
            " IMG_3210.HEIC\n",
            " IMG_3211.HEIC\n",
            " IMG_3212.HEIC\n",
            " IMG_3213.HEIC\n",
            " IMG_3327.HEIC\n",
            " IMG_3328.HEIC\n",
            " IMG_3373.HEIC\n",
            " IMG_3706.HEIC\n",
            " IMG_3801.HEIC\n",
            " IMG_3811.HEIC\n",
            " IMG_3935.HEIC\n",
            " IMG_3936.HEIC\n",
            " IMG_3944.HEIC\n",
            " IMG_4386.HEIC\n",
            " IMG_4390.HEIC\n",
            " IMG_4643.HEIC\n",
            " IMG_4644.HEIC\n",
            " IMG_4645.HEIC\n",
            " IMG_4646.HEIC\n",
            " IMG_4822.HEIC\n",
            " IMG_4823.HEIC\n",
            " IMG_4835.HEIC\n",
            " IMG_4986.HEIC\n",
            " IMG_4995.HEIC\n",
            " IMG_6457.HEIC\n",
            " IMG_6797.HEIC\n",
            " IMG_7763.HEIC\n",
            "'Intentional Interactions.gdoc'\n",
            "'Job Application Tracker.gsheet'\n",
            "'LIFTING SHEET.gsheet'\n",
            "'MATH 233 intro slide.gslides'\n",
            "'Meditation Infographic.gdoc'\n",
            "'November Board Slides.gslides'\n",
            " null.gslides\n",
            "'OCAS Volunteer Liability waiver.gdoc'\n",
            "'Personal Statement.gdoc'\n",
            "'practice coding interview.gdoc'\n",
            "'Project Outline.gdoc'\n",
            "'Project Pollock.gdoc'\n",
            "'Python DS personal'\n",
            "'Q3_islanders_of_Nomanisan__3_ (1).xlsx'\n",
            "'Quiet hours.gdoc'\n",
            "'RA locator.gdoc'\n",
            "'RELI322 Midterm Project.gslides'\n",
            "'RELI 345 Project Proposal.docx'\n",
            "'RELI 345 Project Proposal.gdoc'\n",
            "'RELI443 DNT.gdoc'\n",
            "'RUSS 280 film review #1.gdoc'\n",
            "'RUSS280 film review 2.gdoc'\n",
            "'RUSS280 final paper (FINAL COPY).gdoc'\n",
            "'Screen Shot 2020-09-14 at 12.17.06 AM.png'\n",
            "'search (2) (1).gsheet'\n",
            "'search (2).gsheet'\n",
            "'search (2).xls'\n",
            " search.xls\n",
            "'Tell me about yourself!.gform'\n",
            "'Truth Tabel excel formulas.gdoc'\n",
            "\"Ultron's Brain.gdoc\"\n",
            "'UNC Student Satisfaction Questionnaire .gform'\n",
            "'Untitled document (1).gdoc'\n",
            "'Untitled document (2).gdoc'\n",
            "'Untitled document.gdoc'\n",
            "'Untitled form (1).gform'\n",
            "'Untitled form.gform'\n",
            "'Untitled spreadsheet (1).gsheet'\n",
            "'Untitled spreadsheet.gsheet'\n",
            "'Welcome to carolina board.gdoc'\n",
            "'сочинение 3.gdoc'\n"
          ]
        }
      ]
    },
    {
      "cell_type": "code",
      "source": [
        "# Install Huggingface Transformers library\n",
        "!pip install transformers"
      ],
      "metadata": {
        "id": "Q0-tGAo_MAK6",
        "outputId": "8fbbce3e-fcea-40a2-ab5f-232636f0eac9",
        "colab": {
          "base_uri": "https://localhost:8080/"
        }
      },
      "execution_count": 3,
      "outputs": [
        {
          "output_type": "stream",
          "name": "stdout",
          "text": [
            "Looking in indexes: https://pypi.org/simple, https://us-python.pkg.dev/colab-wheels/public/simple/\n",
            "Collecting transformers\n",
            "  Downloading transformers-4.26.1-py3-none-any.whl (6.3 MB)\n",
            "\u001b[2K     \u001b[90m━━━━━━━━━━━━━━━━━━━━━━━━━━━━━━━━━━━━━━━━\u001b[0m \u001b[32m6.3/6.3 MB\u001b[0m \u001b[31m88.0 MB/s\u001b[0m eta \u001b[36m0:00:00\u001b[0m\n",
            "\u001b[?25hCollecting tokenizers!=0.11.3,<0.14,>=0.11.1\n",
            "  Downloading tokenizers-0.13.2-cp38-cp38-manylinux_2_17_x86_64.manylinux2014_x86_64.whl (7.6 MB)\n",
            "\u001b[2K     \u001b[90m━━━━━━━━━━━━━━━━━━━━━━━━━━━━━━━━━━━━━━━━\u001b[0m \u001b[32m7.6/7.6 MB\u001b[0m \u001b[31m75.4 MB/s\u001b[0m eta \u001b[36m0:00:00\u001b[0m\n",
            "\u001b[?25hRequirement already satisfied: packaging>=20.0 in /usr/local/lib/python3.8/dist-packages (from transformers) (23.0)\n",
            "Requirement already satisfied: filelock in /usr/local/lib/python3.8/dist-packages (from transformers) (3.9.0)\n",
            "Requirement already satisfied: regex!=2019.12.17 in /usr/local/lib/python3.8/dist-packages (from transformers) (2022.6.2)\n",
            "Requirement already satisfied: requests in /usr/local/lib/python3.8/dist-packages (from transformers) (2.25.1)\n",
            "Requirement already satisfied: numpy>=1.17 in /usr/local/lib/python3.8/dist-packages (from transformers) (1.21.6)\n",
            "Requirement already satisfied: pyyaml>=5.1 in /usr/local/lib/python3.8/dist-packages (from transformers) (6.0)\n",
            "Collecting huggingface-hub<1.0,>=0.11.0\n",
            "  Downloading huggingface_hub-0.12.0-py3-none-any.whl (190 kB)\n",
            "\u001b[2K     \u001b[90m━━━━━━━━━━━━━━━━━━━━━━━━━━━━━━━━━━━━━━\u001b[0m \u001b[32m190.3/190.3 KB\u001b[0m \u001b[31m24.8 MB/s\u001b[0m eta \u001b[36m0:00:00\u001b[0m\n",
            "\u001b[?25hRequirement already satisfied: tqdm>=4.27 in /usr/local/lib/python3.8/dist-packages (from transformers) (4.64.1)\n",
            "Requirement already satisfied: typing-extensions>=3.7.4.3 in /usr/local/lib/python3.8/dist-packages (from huggingface-hub<1.0,>=0.11.0->transformers) (4.4.0)\n",
            "Requirement already satisfied: urllib3<1.27,>=1.21.1 in /usr/local/lib/python3.8/dist-packages (from requests->transformers) (1.24.3)\n",
            "Requirement already satisfied: certifi>=2017.4.17 in /usr/local/lib/python3.8/dist-packages (from requests->transformers) (2022.12.7)\n",
            "Requirement already satisfied: chardet<5,>=3.0.2 in /usr/local/lib/python3.8/dist-packages (from requests->transformers) (4.0.0)\n",
            "Requirement already satisfied: idna<3,>=2.5 in /usr/local/lib/python3.8/dist-packages (from requests->transformers) (2.10)\n",
            "Installing collected packages: tokenizers, huggingface-hub, transformers\n",
            "Successfully installed huggingface-hub-0.12.0 tokenizers-0.13.2 transformers-4.26.1\n"
          ]
        }
      ]
    },
    {
      "cell_type": "code",
      "source": [
        "# Import necessary libraries\n",
        "import os\n",
        "from os.path import join\n",
        "import numpy as np\n",
        "import pandas as pd\n",
        "import torch\n",
        "import random\n",
        "from transformers.file_utils import is_tf_available, is_torch_available, is_torch_tpu_available"
      ],
      "metadata": {
        "id": "pOp2MEE9w2-J"
      },
      "execution_count": 4,
      "outputs": []
    },
    {
      "cell_type": "code",
      "source": [
        "train_data = pd.read_csv(\"/content/drive/My Drive/Corona_NLP_train.csv\",encoding='latin-1')\n",
        "test_data = pd.read_csv(\"/content/drive/My Drive/Corona_NLP_test.csv\",encoding='latin-1')"
      ],
      "metadata": {
        "id": "V403T6hCFGwO"
      },
      "execution_count": 5,
      "outputs": []
    },
    {
      "cell_type": "code",
      "source": [
        "# set the seed (very important)\n",
        "seed = 35"
      ],
      "metadata": {
        "id": "lZrlMi1NaRuI"
      },
      "execution_count": 6,
      "outputs": []
    },
    {
      "cell_type": "code",
      "source": [
        "def set_seed(seed: int):\n",
        "    \"\"\"\n",
        "    Helper function for reproducible behavior to set the seed in ``random``, ``numpy``, ``torch`` and/or ``tf`` (if\n",
        "    installed).\n",
        "\n",
        "    Args:\n",
        "        seed (:obj:`int`): The seed to set.\n",
        "    \"\"\"\n",
        "    random.seed(seed)\n",
        "    np.random.seed(seed)\n",
        "    if is_torch_available():\n",
        "        torch.manual_seed(seed)\n",
        "        torch.cuda.manual_seed_all(seed)\n",
        "        # ^^ safe to call this function even if cuda is not available\n",
        "    if is_tf_available():\n",
        "        import tensorflow as tf\n",
        "\n",
        "        tf.random.set_seed(seed)\n",
        "\n",
        "set_seed(seed)"
      ],
      "metadata": {
        "id": "SpR_StjWaQUF"
      },
      "execution_count": 7,
      "outputs": []
    },
    {
      "cell_type": "code",
      "source": [
        "for row in range(len(train_data)):\n",
        "    if train_data.at[row,\"Sentiment\"] == \"Extremely Negative\" or train_data.at[row,\"Sentiment\"] == \"Negative\":\n",
        "        train_data.at[row,\"Sentiment\"] = 0\n",
        "    elif train_data.at[row,\"Sentiment\"] == \"Extremely Positive\" or train_data.at[row,\"Sentiment\"] == \"Positive\":\n",
        "        train_data.at[row,\"Sentiment\"] = 1\n",
        "    elif train_data.at[row,\"Sentiment\"] == \"Neutral\":\n",
        "        train_data = train_data.drop(row)\n",
        "        \n",
        "for row in range(len(test_data)):\n",
        "    if test_data.at[row,\"Sentiment\"] == \"Extremely Negative\" or test_data.at[row,\"Sentiment\"] == \"Negative\":\n",
        "        test_data.at[row,\"Sentiment\"] = 0\n",
        "    elif test_data.at[row,\"Sentiment\"] == \"Extremely Positive\" or test_data.at[row,\"Sentiment\"] == \"Positive\":\n",
        "        test_data.at[row,\"Sentiment\"] = 1\n",
        "    elif test_data.at[row,\"Sentiment\"] == \"Neutral\":\n",
        "        test_data = test_data.drop(row)\n",
        "\n",
        "train_data = train_data.reset_index(drop=True)\n",
        "test_data = test_data.reset_index(drop=True)\n",
        "# Your Code Here\n",
        "# 1. Getting train_text, test_text, (i.e. the training and the test tweets.)\n",
        "#    make sure train_text and test_text is a list of strs.\n",
        "#    Again, we emphasize that you do NOT have to do any NTLK-typed\n",
        "#    pre-processing here, just getting raw tweets is sufficient. \n",
        "train_text = [tweet for tweet in train_data[\"OriginalTweet\"].tolist()]\n",
        "test_text = [tweet for tweet in test_data[\"OriginalTweet\"].tolist()]\n",
        "# 2. Getting train_label, test_label with each being a numpy array and each entry \n",
        "#    is 1 for \"Positive\" and 0 for \"Negative\"\n",
        "#    (Remeber that you have to turn the \"Extremely Positive\" and \"Extremely Negative\"\n",
        "#    label to \"Positive\" and \"Negative\" and get rid of \"Neutral\" tweets like you \n",
        "#    did in the previous question)\n",
        "train_label = [tweet for tweet in train_data[\"Sentiment\"].tolist()]\n",
        "test_label = [tweet for tweet in test_data[\"Sentiment\"].tolist()]"
      ],
      "metadata": {
        "id": "rWes6HKXxOBw"
      },
      "execution_count": 8,
      "outputs": []
    },
    {
      "cell_type": "code",
      "source": [
        "# download pretrained BERT Tokenizer\n",
        "from transformers import BertTokenizer\n",
        "# credits to https://www.thepythoncode.com/article/finetuning-bert-using-huggingface-transformers-python\n",
        "model_checkpoint = \"bert-base-cased\"\n",
        "tokenizer = BertTokenizer.from_pretrained(model_checkpoint)"
      ],
      "metadata": {
        "id": "7dhhf784MD-q",
        "colab": {
          "base_uri": "https://localhost:8080/",
          "height": 113,
          "referenced_widgets": [
            "b28957300be54f018520fdcad292a0e9",
            "f6e2dc8320ea4c67949be58ae6a4fc81",
            "2bb800230cc14a559474059929d87383",
            "838c9e57d543436d9f5cb9d77a37d614",
            "bebd3af64fdb4d3ab6135a1077a6c75d",
            "5e55dd34796b477eaac5413ee6f34a95",
            "fd2b52560975410aaa77bd5957f3eaea",
            "a66e7b0fe57545cd9e964a46e7274522",
            "6de7692c2cba46f194eff2b34a311645",
            "2b097bf176ce4ec38101279610e22354",
            "952f677c46b34aad9bf7305efac54716",
            "4f527aabc3a245e0b6fbcd220537fa77",
            "17097e7f5633494a8e29223c94554664",
            "20310691594a4b9aa3bcc36d80fd67f4",
            "5e51ca147a0a42b4bde591212492e83a",
            "cbbbb47ae43140c89b09bd2a39e601a5",
            "e211591c9b54411fa269a4da31e0d859",
            "674bb0288d5c416ab81427927ffeebcc",
            "25847dd107684b33879e5e3246dab7d4",
            "6de247ef02554ea2b241d976036ba77f",
            "be5986e1d2654cd691afa2df5b2fc406",
            "ad8b584fdda84a87b131e3548be04b44",
            "1cf7f554df2e4f718f1d902d35addc3b",
            "3f475838fe3544af806cbb1534a1635e",
            "6b26783acf3e4ef487773778b88a31b7",
            "40697a566c7148c188457f5e4312659a",
            "4120842a842f42a3a08112b3d29400da",
            "935a08639e08487e912d2ae8c1eef207",
            "5ee56d8d01724eb0909ba15273ebd7a1",
            "d3a97646a6044ab6a62e717c1a5ef42e",
            "6afa3de706ed4ed4ab8e6b8f09599b6a",
            "b1c0876bf15b47a392e7db7ea593ff3c",
            "89b5c5ebb8f344e9832a930c80dfdfa3"
          ]
        },
        "outputId": "72a9c412-04ac-4128-fd94-7980499eebf9"
      },
      "execution_count": 9,
      "outputs": [
        {
          "output_type": "display_data",
          "data": {
            "text/plain": [
              "Downloading (…)solve/main/vocab.txt:   0%|          | 0.00/213k [00:00<?, ?B/s]"
            ],
            "application/vnd.jupyter.widget-view+json": {
              "version_major": 2,
              "version_minor": 0,
              "model_id": "b28957300be54f018520fdcad292a0e9"
            }
          },
          "metadata": {}
        },
        {
          "output_type": "display_data",
          "data": {
            "text/plain": [
              "Downloading (…)okenizer_config.json:   0%|          | 0.00/29.0 [00:00<?, ?B/s]"
            ],
            "application/vnd.jupyter.widget-view+json": {
              "version_major": 2,
              "version_minor": 0,
              "model_id": "4f527aabc3a245e0b6fbcd220537fa77"
            }
          },
          "metadata": {}
        },
        {
          "output_type": "display_data",
          "data": {
            "text/plain": [
              "Downloading (…)lve/main/config.json:   0%|          | 0.00/570 [00:00<?, ?B/s]"
            ],
            "application/vnd.jupyter.widget-view+json": {
              "version_major": 2,
              "version_minor": 0,
              "model_id": "1cf7f554df2e4f718f1d902d35addc3b"
            }
          },
          "metadata": {}
        }
      ]
    },
    {
      "cell_type": "code",
      "source": [
        "# download pretrained BERT model\n",
        "from transformers import AutoModelForSequenceClassification, TrainingArguments, Trainer\n",
        "\n",
        "# Your Code Here\n",
        "# Filling the number of labels in this classification task.\n",
        "num_labels = 2\n",
        "model = AutoModelForSequenceClassification.from_pretrained(model_checkpoint, num_labels=num_labels)"
      ],
      "metadata": {
        "id": "1DGZW94uxtde",
        "colab": {
          "base_uri": "https://localhost:8080/",
          "height": 158,
          "referenced_widgets": [
            "c0522c4c95d94f859eddbc96f876a31f",
            "42d922da01a34fef89c84b9b71c6d6f9",
            "7ec5aad3da4044bda04045bc5fb6321f",
            "3b12e42894324eec998ce28de14e4327",
            "18e4d2551b3c43bcb6664792740b5db3",
            "6f6dc4600a7e4b40b310ccd013e4d36d",
            "56ac7216a1014cc6be3f09b05848bb91",
            "cbcf0c3d3f974317962fc0ae6fbce815",
            "5f903921d9c644f2aa5476615a32f9bd",
            "2e29f0548d5e48e289378327e3faa9d2",
            "1a6182c63c4845b49673f8d63ce5b615"
          ]
        },
        "outputId": "3e42d16d-c0ad-47d7-99df-ef3341da4f9d"
      },
      "execution_count": 10,
      "outputs": [
        {
          "output_type": "display_data",
          "data": {
            "text/plain": [
              "Downloading (…)\"pytorch_model.bin\";:   0%|          | 0.00/436M [00:00<?, ?B/s]"
            ],
            "application/vnd.jupyter.widget-view+json": {
              "version_major": 2,
              "version_minor": 0,
              "model_id": "c0522c4c95d94f859eddbc96f876a31f"
            }
          },
          "metadata": {}
        },
        {
          "output_type": "stream",
          "name": "stderr",
          "text": [
            "Some weights of the model checkpoint at bert-base-cased were not used when initializing BertForSequenceClassification: ['cls.predictions.transform.dense.weight', 'cls.predictions.transform.dense.bias', 'cls.predictions.bias', 'cls.seq_relationship.weight', 'cls.predictions.transform.LayerNorm.bias', 'cls.predictions.transform.LayerNorm.weight', 'cls.predictions.decoder.weight', 'cls.seq_relationship.bias']\n",
            "- This IS expected if you are initializing BertForSequenceClassification from the checkpoint of a model trained on another task or with another architecture (e.g. initializing a BertForSequenceClassification model from a BertForPreTraining model).\n",
            "- This IS NOT expected if you are initializing BertForSequenceClassification from the checkpoint of a model that you expect to be exactly identical (initializing a BertForSequenceClassification model from a BertForSequenceClassification model).\n",
            "Some weights of BertForSequenceClassification were not initialized from the model checkpoint at bert-base-cased and are newly initialized: ['classifier.bias', 'classifier.weight']\n",
            "You should probably TRAIN this model on a down-stream task to be able to use it for predictions and inference.\n"
          ]
        }
      ]
    },
    {
      "cell_type": "code",
      "source": [
        "# Information of BERT model\n",
        "def get_model_layer(model):\n",
        "  return model.config.num_hidden_layers\n",
        "\n",
        "def get_hidden_size(model):\n",
        "  return model.config.hidden_size"
      ],
      "metadata": {
        "id": "P_Don0G40Z1u"
      },
      "execution_count": 11,
      "outputs": []
    },
    {
      "cell_type": "code",
      "source": [
        "# Move the model to GPU\n",
        "# Revisit the GPU tutorial if you meets error in this cell\n",
        "model = model.to('cuda')"
      ],
      "metadata": {
        "id": "AQpxIgL36kBY"
      },
      "execution_count": 12,
      "outputs": []
    },
    {
      "cell_type": "code",
      "source": [
        "# Metrics\n",
        "\n",
        "from sklearn.metrics import accuracy_score\n",
        "from sklearn.metrics import confusion_matrix\n",
        "\n",
        "def compute_metrics(pred):\n",
        "  labels = pred.label_ids\n",
        "  preds = pred.predictions.argmax(-1)\n",
        "  # calculate accuracy using sklearn's function\n",
        "  acc = accuracy_score(labels, preds)\n",
        "  tn, fp, fn, tp = confusion_matrix(labels, preds).ravel()\n",
        "  return {\n",
        "      'accuracy': acc,\n",
        "      \"tn\": tn,\n",
        "      \"fp\": fp,\n",
        "      \"fn\": fn,\n",
        "      \"tp\": tp\n",
        "  }"
      ],
      "metadata": {
        "id": "GKAh_hjXycDl"
      },
      "execution_count": 13,
      "outputs": []
    },
    {
      "cell_type": "code",
      "source": [
        "# Change the batch size here\n",
        "training_args = TrainingArguments(\n",
        "    output_dir='./results',          # output directory\n",
        "    num_train_epochs=3,              # total number of training epochs\n",
        "    per_device_train_batch_size=64,  # batch size per device during training\n",
        "    per_device_eval_batch_size=64,   # batch size for evaluation\n",
        "    warmup_steps=500,                # number of warmup steps for learning rate scheduler\n",
        "    weight_decay=0.01,               # strength of weight decay\n",
        "    logging_dir='./logs',            # directory for storing logs\n",
        "    load_best_model_at_end=True,     # load the best model when finished training (default metric is loss)\n",
        "    # but you can specify `metric_for_best_model` argument to change to accuracy or other metric\n",
        "    logging_steps=200,               # log & save weights each logging_steps\n",
        "    save_steps=200,\n",
        "    evaluation_strategy=\"steps\",     # evaluate each `logging_steps`?\n",
        ")\n"
      ],
      "metadata": {
        "id": "4TCYaNha1xPO"
      },
      "execution_count": 14,
      "outputs": []
    },
    {
      "cell_type": "code",
      "source": [
        "# Encode the data\n",
        "\n",
        "max_length = 128\n",
        "train_encodings = tokenizer(train_text, truncation=True, padding=True, max_length=max_length)\n",
        "test_encodings = tokenizer(test_text, truncation=True, padding=True, max_length=max_length)"
      ],
      "metadata": {
        "id": "ar0Wn2To2RQf"
      },
      "execution_count": 15,
      "outputs": []
    },
    {
      "cell_type": "code",
      "source": [
        "# Build the dataset\n",
        "\n",
        "class TweetDataset(torch.utils.data.Dataset):\n",
        "    def __init__(self, encodings, labels):\n",
        "        self.encodings = encodings\n",
        "        self.labels = labels\n",
        "\n",
        "    def __getitem__(self, idx):\n",
        "        item = {k: torch.tensor(v[idx]) for k, v in self.encodings.items()}\n",
        "        item[\"labels\"] = torch.tensor([self.labels[idx]])\n",
        "        return item\n",
        "\n",
        "    def __len__(self):\n",
        "        return len(self.labels)\n",
        "\n",
        "# convert our tokenized data into a torch Dataset\n",
        "train_dataset = TweetDataset(train_encodings, train_label)\n",
        "test_dataset = TweetDataset(test_encodings, test_label)"
      ],
      "metadata": {
        "id": "rXYegjcY2aJm"
      },
      "execution_count": 16,
      "outputs": []
    },
    {
      "cell_type": "code",
      "source": [
        "# Setup the trainer\n",
        "\n",
        "trainer = Trainer(\n",
        "    model=model,                         # the instantiated Transformers model to be trained\n",
        "    args=training_args,                  # training arguments, defined above\n",
        "    train_dataset=train_dataset,         # training dataset\n",
        "    eval_dataset=test_dataset,          # evaluation dataset\n",
        "    compute_metrics=compute_metrics,     # the callback that computes metrics of interest\n",
        ")"
      ],
      "metadata": {
        "id": "outYCdIE2mLy"
      },
      "execution_count": 17,
      "outputs": []
    },
    {
      "cell_type": "code",
      "source": [
        "# train the model\n",
        "trainer.train()"
      ],
      "metadata": {
        "id": "quxUqKTb2zJG",
        "colab": {
          "base_uri": "https://localhost:8080/",
          "height": 1000
        },
        "outputId": "e38e8ec9-d3e1-4cef-c9e8-4143b0d4188d"
      },
      "execution_count": 18,
      "outputs": [
        {
          "output_type": "stream",
          "name": "stderr",
          "text": [
            "/usr/local/lib/python3.8/dist-packages/transformers/optimization.py:306: FutureWarning: This implementation of AdamW is deprecated and will be removed in a future version. Use the PyTorch implementation torch.optim.AdamW instead, or set `no_deprecation_warning=True` to disable this warning\n",
            "  warnings.warn(\n",
            "***** Running training *****\n",
            "  Num examples = 33444\n",
            "  Num Epochs = 3\n",
            "  Instantaneous batch size per device = 64\n",
            "  Total train batch size (w. parallel, distributed & accumulation) = 64\n",
            "  Gradient Accumulation steps = 1\n",
            "  Total optimization steps = 1569\n",
            "  Number of trainable parameters = 108311810\n"
          ]
        },
        {
          "output_type": "display_data",
          "data": {
            "text/plain": [
              "<IPython.core.display.HTML object>"
            ],
            "text/html": [
              "\n",
              "    <div>\n",
              "      \n",
              "      <progress value='1569' max='1569' style='width:300px; height:20px; vertical-align: middle;'></progress>\n",
              "      [1569/1569 36:20, Epoch 3/3]\n",
              "    </div>\n",
              "    <table border=\"1\" class=\"dataframe\">\n",
              "  <thead>\n",
              " <tr style=\"text-align: left;\">\n",
              "      <th>Step</th>\n",
              "      <th>Training Loss</th>\n",
              "      <th>Validation Loss</th>\n",
              "      <th>Accuracy</th>\n",
              "      <th>Tn</th>\n",
              "      <th>Fp</th>\n",
              "      <th>Fn</th>\n",
              "      <th>Tp</th>\n",
              "    </tr>\n",
              "  </thead>\n",
              "  <tbody>\n",
              "    <tr>\n",
              "      <td>200</td>\n",
              "      <td>0.586300</td>\n",
              "      <td>0.436330</td>\n",
              "      <td>0.804026</td>\n",
              "      <td>1424</td>\n",
              "      <td>209</td>\n",
              "      <td>414</td>\n",
              "      <td>1132</td>\n",
              "    </tr>\n",
              "    <tr>\n",
              "      <td>400</td>\n",
              "      <td>0.346900</td>\n",
              "      <td>0.337287</td>\n",
              "      <td>0.853413</td>\n",
              "      <td>1453</td>\n",
              "      <td>180</td>\n",
              "      <td>286</td>\n",
              "      <td>1260</td>\n",
              "    </tr>\n",
              "    <tr>\n",
              "      <td>600</td>\n",
              "      <td>0.252600</td>\n",
              "      <td>0.269168</td>\n",
              "      <td>0.884869</td>\n",
              "      <td>1507</td>\n",
              "      <td>126</td>\n",
              "      <td>240</td>\n",
              "      <td>1306</td>\n",
              "    </tr>\n",
              "    <tr>\n",
              "      <td>800</td>\n",
              "      <td>0.189600</td>\n",
              "      <td>0.245615</td>\n",
              "      <td>0.904058</td>\n",
              "      <td>1470</td>\n",
              "      <td>163</td>\n",
              "      <td>142</td>\n",
              "      <td>1404</td>\n",
              "    </tr>\n",
              "    <tr>\n",
              "      <td>1000</td>\n",
              "      <td>0.172000</td>\n",
              "      <td>0.224502</td>\n",
              "      <td>0.911922</td>\n",
              "      <td>1441</td>\n",
              "      <td>192</td>\n",
              "      <td>88</td>\n",
              "      <td>1458</td>\n",
              "    </tr>\n",
              "    <tr>\n",
              "      <td>1200</td>\n",
              "      <td>0.092700</td>\n",
              "      <td>0.295935</td>\n",
              "      <td>0.906889</td>\n",
              "      <td>1431</td>\n",
              "      <td>202</td>\n",
              "      <td>94</td>\n",
              "      <td>1452</td>\n",
              "    </tr>\n",
              "    <tr>\n",
              "      <td>1400</td>\n",
              "      <td>0.065400</td>\n",
              "      <td>0.242800</td>\n",
              "      <td>0.921044</td>\n",
              "      <td>1516</td>\n",
              "      <td>117</td>\n",
              "      <td>134</td>\n",
              "      <td>1412</td>\n",
              "    </tr>\n",
              "  </tbody>\n",
              "</table><p>"
            ]
          },
          "metadata": {}
        },
        {
          "output_type": "stream",
          "name": "stderr",
          "text": [
            "***** Running Evaluation *****\n",
            "  Num examples = 3179\n",
            "  Batch size = 64\n",
            "Saving model checkpoint to ./results/checkpoint-200\n",
            "Configuration saved in ./results/checkpoint-200/config.json\n",
            "Model weights saved in ./results/checkpoint-200/pytorch_model.bin\n",
            "***** Running Evaluation *****\n",
            "  Num examples = 3179\n",
            "  Batch size = 64\n",
            "Saving model checkpoint to ./results/checkpoint-400\n",
            "Configuration saved in ./results/checkpoint-400/config.json\n",
            "Model weights saved in ./results/checkpoint-400/pytorch_model.bin\n",
            "***** Running Evaluation *****\n",
            "  Num examples = 3179\n",
            "  Batch size = 64\n",
            "Saving model checkpoint to ./results/checkpoint-600\n",
            "Configuration saved in ./results/checkpoint-600/config.json\n",
            "Model weights saved in ./results/checkpoint-600/pytorch_model.bin\n",
            "***** Running Evaluation *****\n",
            "  Num examples = 3179\n",
            "  Batch size = 64\n",
            "Saving model checkpoint to ./results/checkpoint-800\n",
            "Configuration saved in ./results/checkpoint-800/config.json\n",
            "Model weights saved in ./results/checkpoint-800/pytorch_model.bin\n",
            "***** Running Evaluation *****\n",
            "  Num examples = 3179\n",
            "  Batch size = 64\n",
            "Saving model checkpoint to ./results/checkpoint-1000\n",
            "Configuration saved in ./results/checkpoint-1000/config.json\n",
            "Model weights saved in ./results/checkpoint-1000/pytorch_model.bin\n",
            "***** Running Evaluation *****\n",
            "  Num examples = 3179\n",
            "  Batch size = 64\n",
            "Saving model checkpoint to ./results/checkpoint-1200\n",
            "Configuration saved in ./results/checkpoint-1200/config.json\n",
            "Model weights saved in ./results/checkpoint-1200/pytorch_model.bin\n",
            "***** Running Evaluation *****\n",
            "  Num examples = 3179\n",
            "  Batch size = 64\n",
            "Saving model checkpoint to ./results/checkpoint-1400\n",
            "Configuration saved in ./results/checkpoint-1400/config.json\n",
            "Model weights saved in ./results/checkpoint-1400/pytorch_model.bin\n",
            "\n",
            "\n",
            "Training completed. Do not forget to share your model on huggingface.co/models =)\n",
            "\n",
            "\n",
            "Loading best model from ./results/checkpoint-1000 (score: 0.22450163960456848).\n"
          ]
        },
        {
          "output_type": "execute_result",
          "data": {
            "text/plain": [
              "TrainOutput(global_step=1569, training_loss=0.22405738538811357, metrics={'train_runtime': 2184.7398, 'train_samples_per_second': 45.924, 'train_steps_per_second': 0.718, 'total_flos': 6599614601594880.0, 'train_loss': 0.22405738538811357, 'epoch': 3.0})"
            ]
          },
          "metadata": {},
          "execution_count": 18
        }
      ]
    },
    {
      "cell_type": "code",
      "source": [
        "# evaluate the model\n",
        "trainer.evaluate()"
      ],
      "metadata": {
        "id": "C1PvExNNhsEC",
        "colab": {
          "base_uri": "https://localhost:8080/",
          "height": 269
        },
        "outputId": "232618d4-3768-4ae6-c5be-515ced06a3ba"
      },
      "execution_count": 19,
      "outputs": [
        {
          "output_type": "stream",
          "name": "stderr",
          "text": [
            "***** Running Evaluation *****\n",
            "  Num examples = 3179\n",
            "  Batch size = 64\n"
          ]
        },
        {
          "output_type": "display_data",
          "data": {
            "text/plain": [
              "<IPython.core.display.HTML object>"
            ],
            "text/html": [
              "\n",
              "    <div>\n",
              "      \n",
              "      <progress value='50' max='50' style='width:300px; height:20px; vertical-align: middle;'></progress>\n",
              "      [50/50 00:22]\n",
              "    </div>\n",
              "    "
            ]
          },
          "metadata": {}
        },
        {
          "output_type": "execute_result",
          "data": {
            "text/plain": [
              "{'eval_loss': 0.22450163960456848,\n",
              " 'eval_accuracy': 0.9119219880465556,\n",
              " 'eval_tn': 1441,\n",
              " 'eval_fp': 192,\n",
              " 'eval_fn': 88,\n",
              " 'eval_tp': 1458,\n",
              " 'eval_runtime': 22.7038,\n",
              " 'eval_samples_per_second': 140.021,\n",
              " 'eval_steps_per_second': 2.202,\n",
              " 'epoch': 3.0}"
            ]
          },
          "metadata": {},
          "execution_count": 19
        }
      ]
    },
    {
      "cell_type": "code",
      "source": [
        "def get_prediction(model, text):\n",
        "    # prepare our text into tokenized sequence\n",
        "    inputs = tokenizer(text, padding=True, truncation=True, max_length=max_length, return_tensors=\"pt\").to(\"cuda\")\n",
        "    # perform inference to our model\n",
        "    outputs = model(**inputs)\n",
        "    # get output probabilities by doing softmax\n",
        "    probs = outputs[0].softmax(1)\n",
        "    # executing argmax function to get the candidate label\n",
        "    return probs"
      ],
      "metadata": {
        "id": "ue-t1kHWapo0"
      },
      "execution_count": 20,
      "outputs": []
    },
    {
      "cell_type": "code",
      "source": [
        "print(get_model_layer(model))"
      ],
      "metadata": {
        "colab": {
          "base_uri": "https://localhost:8080/"
        },
        "id": "BUxekQNdSl9U",
        "outputId": "88315bf3-8399-4e33-a514-c7ddc33a1cc3"
      },
      "execution_count": 23,
      "outputs": [
        {
          "output_type": "stream",
          "name": "stdout",
          "text": [
            "12\n"
          ]
        }
      ]
    },
    {
      "cell_type": "code",
      "source": [
        "print(get_hidden_size(model))"
      ],
      "metadata": {
        "colab": {
          "base_uri": "https://localhost:8080/"
        },
        "id": "r2tLNkElVhDv",
        "outputId": "79df9135-59d0-405f-d172-e875ff652591"
      },
      "execution_count": 25,
      "outputs": [
        {
          "output_type": "stream",
          "name": "stdout",
          "text": [
            "768\n"
          ]
        }
      ]
    },
    {
      "cell_type": "code",
      "source": [
        "tweet = 'COVID is already old news. I’m ready to go back to the clubs now #reborn.'\n",
        "get_prediction(model,tweet)"
      ],
      "metadata": {
        "colab": {
          "base_uri": "https://localhost:8080/"
        },
        "id": "mhcPwHtTXMo3",
        "outputId": "39a3e671-50e5-422b-824a-cf15fd62f19c"
      },
      "execution_count": 27,
      "outputs": [
        {
          "output_type": "execute_result",
          "data": {
            "text/plain": [
              "tensor([[0.0015, 0.9985]], device='cuda:0', grad_fn=<SoftmaxBackward0>)"
            ]
          },
          "metadata": {},
          "execution_count": 27
        }
      ]
    },
    {
      "cell_type": "code",
      "source": [
        "print(len(test_label))\n",
        "print(\"The number of positive tweets is: \" + str(sum(test_label)))\n",
        "print(\"The number of negative tweets is: \" + str(len(test_label) - sum(test_label)))\n",
        "print(\"Predicting all negative tweets would make us right: \" + str(1633/3179) + \" of the time\")"
      ],
      "metadata": {
        "colab": {
          "base_uri": "https://localhost:8080/"
        },
        "id": "7rAMepvUZhMM",
        "outputId": "f557810b-322f-4f4f-f5ea-c71d28be6737"
      },
      "execution_count": 36,
      "outputs": [
        {
          "output_type": "stream",
          "name": "stdout",
          "text": [
            "3179\n",
            "The number of positive tweets is: 1546\n",
            "The number of negative tweets is: 1633\n",
            "Predicting all negative tweets would make us right: 0.5136835482856245 of the time\n"
          ]
        }
      ]
    },
    {
      "cell_type": "code",
      "source": [
        "# F score is given by TP / TP + 1/2(FP + FN)\n",
        "num = 1633\n",
        "denom = 1633 + (0.5*(1546+0))\n",
        "print(\"F score is: \" + str(num / denom))"
      ],
      "metadata": {
        "colab": {
          "base_uri": "https://localhost:8080/"
        },
        "id": "Mc0zlPaicTyj",
        "outputId": "34d5b584-06c3-4997-826a-c7be05078ebb"
      },
      "execution_count": 40,
      "outputs": [
        {
          "output_type": "stream",
          "name": "stdout",
          "text": [
            "F score is: 0.6787198669991688\n"
          ]
        }
      ]
    }
  ]
}