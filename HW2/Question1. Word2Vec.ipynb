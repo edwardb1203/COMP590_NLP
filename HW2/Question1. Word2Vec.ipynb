{
 "cells": [
  {
   "cell_type": "code",
   "execution_count": 1,
   "id": "2bbc40eb",
   "metadata": {},
   "outputs": [],
   "source": [
    "import gensim\n",
    "import math\n",
    "import gensim.downloader as api\n",
    "from sklearn.decomposition import PCA"
   ]
  },
  {
   "cell_type": "code",
   "execution_count": 2,
   "id": "12546866",
   "metadata": {},
   "outputs": [],
   "source": [
    "word_vectors = api.load('glove-wiki-gigaword-300')"
   ]
  },
  {
   "cell_type": "code",
   "execution_count": 3,
   "id": "50162ca0",
   "metadata": {},
   "outputs": [
    {
     "name": "stdout",
     "output_type": "stream",
     "text": [
      "300\n"
     ]
    }
   ],
   "source": [
    "# a\n",
    "computer_vec = word_vectors['computer']\n",
    "dim = len(computer_vec)\n",
    "print(dim)"
   ]
  },
  {
   "cell_type": "code",
   "execution_count": 11,
   "id": "3995fc6c",
   "metadata": {},
   "outputs": [],
   "source": [
    "# b\n",
    "# cosine simiarlity takes in two vectors and returns their cosine similarity\n",
    "def cosine_similarity(a,b):\n",
    "    dot_product = sum(x*y for x, y in zip(a, b))\n",
    "    magnitude_product = math.sqrt(sum(x**2 for x in a)) * math.sqrt(sum(x**2 for x in b))\n",
    "    return (dot_product / magnitude_product)"
   ]
  },
  {
   "cell_type": "code",
   "execution_count": 12,
   "id": "d4fc7fce",
   "metadata": {},
   "outputs": [
    {
     "name": "stdout",
     "output_type": "stream",
     "text": [
      "1.0000000001197578\n"
     ]
    }
   ],
   "source": [
    "# checking function... two same vecs should have a cosine similarity of 1\n",
    "print(cosine_similarity(computer_vec,computer_vec))"
   ]
  },
  {
   "cell_type": "code",
   "execution_count": 13,
   "id": "33319d05",
   "metadata": {},
   "outputs": [
    {
     "name": "stdout",
     "output_type": "stream",
     "text": [
      "0.4439638022418777\n",
      "0.8272890811776026\n"
     ]
    }
   ],
   "source": [
    "# c\n",
    "science_vec = word_vectors['science']\n",
    "boy_vec = word_vectors['boy']\n",
    "girl_vec = word_vectors['girl']\n",
    "\n",
    "print(cosine_similarity(computer_vec,science_vec))\n",
    "print(cosine_similarity(boy_vec,girl_vec))"
   ]
  },
  {
   "cell_type": "code",
   "execution_count": 14,
   "id": "090eb73f",
   "metadata": {},
   "outputs": [
    {
     "data": {
      "text/plain": [
       "[('mom', 0.7868067026138306),\n",
       " ('dad', 0.7488328218460083),\n",
       " ('mother', 0.6691833138465881),\n",
       " ('grandmother', 0.653544008731842),\n",
       " ('daughter', 0.5887921452522278),\n",
       " ('woman', 0.575297474861145),\n",
       " ('aunt', 0.5692464113235474),\n",
       " ('widowed', 0.5637246966362),\n",
       " ('husband', 0.5586485266685486),\n",
       " ('girl', 0.5560392141342163)]"
      ]
     },
     "execution_count": 14,
     "metadata": {},
     "output_type": "execute_result"
    }
   ],
   "source": [
    "# d\n",
    "queen = word_vectors['queen']\n",
    "woman = word_vectors['woman']\n",
    "man = word_vectors['man']\n",
    "dad = word_vectors['dad']\n",
    "\n",
    "# word_vectors.most_similar((queen-woman+man))\n",
    "word_vectors.most_similar((dad-man+woman))"
   ]
  },
  {
   "cell_type": "code",
   "execution_count": null,
   "id": "ec127a4f",
   "metadata": {},
   "outputs": [],
   "source": []
  }
 ],
 "metadata": {
  "kernelspec": {
   "display_name": "Python 3 (ipykernel)",
   "language": "python",
   "name": "python3"
  },
  "language_info": {
   "codemirror_mode": {
    "name": "ipython",
    "version": 3
   },
   "file_extension": ".py",
   "mimetype": "text/x-python",
   "name": "python",
   "nbconvert_exporter": "python",
   "pygments_lexer": "ipython3",
   "version": "3.10.9"
  }
 },
 "nbformat": 4,
 "nbformat_minor": 5
}
